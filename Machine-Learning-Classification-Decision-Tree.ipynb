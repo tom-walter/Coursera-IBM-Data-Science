{
 "cells": [
  {
   "cell_type": "markdown",
   "metadata": {},
   "source": [
    "# Machine Learning: Classification - Decision Tree\n",
    "## 1. Introduction\n",
    "### 1.1 What are Decision Trees?\n",
    "A Decision Tree is a predictive modelling approach for classification in data mining and machine learning. The Decision Tree iterates through the features about a case (represented in the _branches_) to conclusions about the case’s target value (represented in the _leaves_). They can be employed for binary or multi-class classification. In Decision Trees, leaves represent class labels and branches represent combinations of features that lead to those class labels. The criterion by which branches eventually lead to pure leaves, where 100% of its cases fall into a single class is called _‘entropy’_. Entropy describes the amount of information disorder, if the sample of cases in a node is completely _homogenous_ (i.e. 100% a single class), then the entropy equal 0. If the sample of cases in a node is completely _heterogenous_ (i.e. split 50-50 between the 2 classes), then entropy equals 1. Decision Trees where the target variable takes continuous value are called regression trees. \n",
    "\n",
    "Decision Trees are among the most popular machine learning algorithms for classification because of their simplicty and intelligbility as they can be used to visually and explicitly represent decisions similar to human decision-making.\n",
    "\n",
    "### 1.2 Advantages and Disadvantages\n",
    "\n",
    "| Advantages | Disadvantages |\n",
    "|------------|---------------|\n",
    "| simple to understand and read (by humans) | structure can be upset easily or get overly complex |\n",
    "| can handle categorical and numerical data | is only heuristic ML algorithm |\n",
    "| robust against co-linearity (drops redundant features) | |\n",
    "| white-box or open box model (easy to understand as compared to black box model |  | \n",
    "| easy to validate with statistical tests | can still be non-robust as changes in training data may upset entire structure |\n",
    "| several boosting methods available | |\n",
    "\n",
    "https://en.wikipedia.org/wiki/Decision_tree_learning\n",
    "\n",
    "This notebook will focus on decision tree classification with scikit-learn.\n",
    "\n",
    "https://scikit-learn.org/stable/modules/tree.html"
   ]
  },
  {
   "cell_type": "markdown",
   "metadata": {},
   "source": [
    "## 2. Decision Tree Classification\n",
    "### 2.1 The Goal and the Dataset\n",
    "A medical researcher compiles data for a study. The collected data is about a set of patients, all of whom suffered from the same illness, but during their course of treatment, each patient responded to 1 out of 5 medications: Drug A, Drug B, Drug c, Drug x and y. \n",
    "\n",
    "As data scientist you need to build a model to find out which drug might be appropriate for a future patient with the same illness. The feature sets of this dataset are Age, Sex, Blood Pressure, Cholesterol and Sodium-to-Potassium of patients, and the target is the drug that each patient responded to. \n",
    "\n",
    "This is an example of a multi-class classifier. Use the given dataset to to build and train a decision tree, and then use it to predict the class of a unknown patient, or to prescribe it to a new patient."
   ]
  },
  {
   "cell_type": "code",
   "execution_count": 1,
   "metadata": {},
   "outputs": [],
   "source": [
    "# import necessary libraries\n",
    "import numpy as np \n",
    "import pandas as pd\n",
    "from sklearn import preprocessing\n",
    "from sklearn.tree import DecisionTreeClassifier\n",
    "from sklearn.model_selection import train_test_split\n",
    "from sklearn import metrics"
   ]
  },
  {
   "cell_type": "code",
   "execution_count": 2,
   "metadata": {},
   "outputs": [
    {
     "name": "stdout",
     "output_type": "stream",
     "text": [
      "Dataset downloaded.\n"
     ]
    }
   ],
   "source": [
    "# download the dataset from IBM storage\n",
    "!wget -O drug200.csv https://s3-api.us-geo.objectstorage.softlayer.net/cf-courses-data/CognitiveClass/ML0101ENv3/labs/drug200.csv\n",
    "print(\"Dataset downloaded.\")"
   ]
  },
  {
   "cell_type": "code",
   "execution_count": 3,
   "metadata": {},
   "outputs": [
    {
     "name": "stdout",
     "output_type": "stream",
     "text": [
      "Shape of Dataset (200, 6)\n"
     ]
    },
    {
     "data": {
      "text/html": [
       "<div>\n",
       "<style scoped>\n",
       "    .dataframe tbody tr th:only-of-type {\n",
       "        vertical-align: middle;\n",
       "    }\n",
       "\n",
       "    .dataframe tbody tr th {\n",
       "        vertical-align: top;\n",
       "    }\n",
       "\n",
       "    .dataframe thead th {\n",
       "        text-align: right;\n",
       "    }\n",
       "</style>\n",
       "<table border=\"1\" class=\"dataframe\">\n",
       "  <thead>\n",
       "    <tr style=\"text-align: right;\">\n",
       "      <th></th>\n",
       "      <th>Age</th>\n",
       "      <th>Sex</th>\n",
       "      <th>BP</th>\n",
       "      <th>Cholesterol</th>\n",
       "      <th>Na_to_K</th>\n",
       "      <th>Drug</th>\n",
       "    </tr>\n",
       "  </thead>\n",
       "  <tbody>\n",
       "    <tr>\n",
       "      <th>0</th>\n",
       "      <td>23</td>\n",
       "      <td>F</td>\n",
       "      <td>HIGH</td>\n",
       "      <td>HIGH</td>\n",
       "      <td>25.355</td>\n",
       "      <td>drugY</td>\n",
       "    </tr>\n",
       "    <tr>\n",
       "      <th>1</th>\n",
       "      <td>47</td>\n",
       "      <td>M</td>\n",
       "      <td>LOW</td>\n",
       "      <td>HIGH</td>\n",
       "      <td>13.093</td>\n",
       "      <td>drugC</td>\n",
       "    </tr>\n",
       "    <tr>\n",
       "      <th>2</th>\n",
       "      <td>47</td>\n",
       "      <td>M</td>\n",
       "      <td>LOW</td>\n",
       "      <td>HIGH</td>\n",
       "      <td>10.114</td>\n",
       "      <td>drugC</td>\n",
       "    </tr>\n",
       "    <tr>\n",
       "      <th>3</th>\n",
       "      <td>28</td>\n",
       "      <td>F</td>\n",
       "      <td>NORMAL</td>\n",
       "      <td>HIGH</td>\n",
       "      <td>7.798</td>\n",
       "      <td>drugX</td>\n",
       "    </tr>\n",
       "    <tr>\n",
       "      <th>4</th>\n",
       "      <td>61</td>\n",
       "      <td>F</td>\n",
       "      <td>LOW</td>\n",
       "      <td>HIGH</td>\n",
       "      <td>18.043</td>\n",
       "      <td>drugY</td>\n",
       "    </tr>\n",
       "  </tbody>\n",
       "</table>\n",
       "</div>"
      ],
      "text/plain": [
       "   Age Sex      BP Cholesterol  Na_to_K   Drug\n",
       "0   23   F    HIGH        HIGH   25.355  drugY\n",
       "1   47   M     LOW        HIGH   13.093  drugC\n",
       "2   47   M     LOW        HIGH   10.114  drugC\n",
       "3   28   F  NORMAL        HIGH    7.798  drugX\n",
       "4   61   F     LOW        HIGH   18.043  drugY"
      ]
     },
     "execution_count": 3,
     "metadata": {},
     "output_type": "execute_result"
    }
   ],
   "source": [
    "# read the dataset into a Pandas dataframe\n",
    "med_study = pd.read_csv(\"drug200.csv\", delimiter=\",\")\n",
    "print(\"Shape of Dataset\", med_study.shape)\n",
    "med_study[0:5]"
   ]
  },
  {
   "cell_type": "markdown",
   "metadata": {},
   "source": [
    "### 2.2 Data Pre-Processing\n",
    "Data Cleaning and Pre-Processing includes all steps that transform the data into a format that legible and processible by the ML algorithm.\n",
    "Although Decision Trees requires very little pre-processing, there are some categorical features need to be encoded as dummies.\n",
    "The dataset will also be split into training and testing subsets for performance evaluation later on. "
   ]
  },
  {
   "cell_type": "code",
   "execution_count": 4,
   "metadata": {},
   "outputs": [
    {
     "name": "stdout",
     "output_type": "stream",
     "text": [
      "[[23 'F' 'HIGH' 'HIGH' 25.355]\n",
      " [47 'M' 'LOW' 'HIGH' 13.093]\n",
      " [47 'M' 'LOW' 'HIGH' 10.113999999999999]\n",
      " [28 'F' 'NORMAL' 'HIGH' 7.797999999999999]\n",
      " [61 'F' 'LOW' 'HIGH' 18.043]]\n",
      "0    drugY\n",
      "1    drugC\n",
      "2    drugC\n",
      "3    drugX\n",
      "4    drugY\n",
      "Name: Drug, dtype: object\n"
     ]
    }
   ],
   "source": [
    "# create a feature set X that includes the patients' features\n",
    "X = med_study[['Age', 'Sex', 'BP', 'Cholesterol', 'Na_to_K']].values\n",
    "\n",
    "# create a target label Y that represents that different drugs\n",
    "Y = med_study[\"Drug\"]\n",
    "\n",
    "print(X[0:5])\n",
    "print(Y[0:5])"
   ]
  },
  {
   "cell_type": "code",
   "execution_count": 5,
   "metadata": {},
   "outputs": [
    {
     "data": {
      "text/plain": [
       "array([[23, 0, 0, 0, 25.355],\n",
       "       [47, 1, 1, 0, 13.093],\n",
       "       [47, 1, 1, 0, 10.113999999999999],\n",
       "       [28, 0, 2, 0, 7.797999999999999],\n",
       "       [61, 0, 1, 0, 18.043]], dtype=object)"
      ]
     },
     "execution_count": 5,
     "metadata": {},
     "output_type": "execute_result"
    }
   ],
   "source": [
    "# encode the categorical variables Sex, Blood Pressure, & Cholesterol\n",
    "le_sex = preprocessing.LabelEncoder()\n",
    "le_sex.fit(['F','M'])\n",
    "X[:,1] = le_sex.transform(X[:,1]) \n",
    "\n",
    "\n",
    "le_BP = preprocessing.LabelEncoder()\n",
    "le_BP.fit([ 'LOW', 'NORMAL', 'HIGH'])\n",
    "X[:,2] = le_BP.transform(X[:,2])\n",
    "\n",
    "\n",
    "le_Chol = preprocessing.LabelEncoder()\n",
    "le_Chol.fit([ 'NORMAL', 'HIGH'])\n",
    "X[:,3] = le_Chol.transform(X[:,3]) \n",
    "\n",
    "X[0:5]"
   ]
  },
  {
   "cell_type": "code",
   "execution_count": 6,
   "metadata": {},
   "outputs": [],
   "source": [
    "# split the dataset into training and testing subsets\n",
    "# testing subset will be 30% of full dataset; random state sets the seed, which can be used for reproducible results\n",
    "X_trainset, X_testset, Y_trainset, Y_testset = train_test_split(X, Y, test_size=0.3, random_state=3)"
   ]
  },
  {
   "cell_type": "markdown",
   "metadata": {},
   "source": [
    "### 2.3 Modelling the Decision Tree\n",
    "The decision tree classifier requires the following hyperparameter:\n",
    " - __criterion__: to measure the quality of the split, \"entropy\" or \"gini\"\n",
    " - __splitter__: strategy to split each node, \"best\" or \"random\"\n",
    " - __max_depth__: maximum level of nodes on the tree, default=none \n",
    " \n",
    "After modelling the decision tree, the training subset can be used to train the model."
   ]
  },
  {
   "cell_type": "code",
   "execution_count": 7,
   "metadata": {},
   "outputs": [
    {
     "data": {
      "text/plain": [
       "DecisionTreeClassifier(class_weight=None, criterion='entropy', max_depth=4,\n",
       "            max_features=None, max_leaf_nodes=None,\n",
       "            min_impurity_decrease=0.0, min_impurity_split=None,\n",
       "            min_samples_leaf=1, min_samples_split=2,\n",
       "            min_weight_fraction_leaf=0.0, presort=False, random_state=None,\n",
       "            splitter='best')"
      ]
     },
     "execution_count": 7,
     "metadata": {},
     "output_type": "execute_result"
    }
   ],
   "source": [
    "# model decision tree classifier for drug prescriptions: criterion='entropy', splitter='best', & max_depth=4\n",
    "drug_pres = DecisionTreeClassifier(criterion=\"entropy\", max_depth = 4, splitter='best')\n",
    "drug_pres # shows the default parameters"
   ]
  },
  {
   "cell_type": "code",
   "execution_count": 8,
   "metadata": {},
   "outputs": [
    {
     "data": {
      "text/plain": [
       "DecisionTreeClassifier(class_weight=None, criterion='entropy', max_depth=4,\n",
       "            max_features=None, max_leaf_nodes=None,\n",
       "            min_impurity_decrease=0.0, min_impurity_split=None,\n",
       "            min_samples_leaf=1, min_samples_split=2,\n",
       "            min_weight_fraction_leaf=0.0, presort=False, random_state=None,\n",
       "            splitter='best')"
      ]
     },
     "execution_count": 8,
     "metadata": {},
     "output_type": "execute_result"
    }
   ],
   "source": [
    "# train the decision tree with the training data\n",
    "drug_pres.fit(X_trainset, Y_trainset)"
   ]
  },
  {
   "cell_type": "markdown",
   "metadata": {},
   "source": [
    "### 2.4 Prediction and Evaluation\n",
    "Using the testing subset, the model can now be used to make prediction about what type of drug it would prescribe to a patient. Since the testing subset already has true labels (true prescriptions), they can be compared to the predicted labels in order to evaluate the performance of the model on out-of-sample data."
   ]
  },
  {
   "cell_type": "code",
   "execution_count": 11,
   "metadata": {},
   "outputs": [
    {
     "name": "stdout",
     "output_type": "stream",
     "text": [
      "Decision Tree's General Accuracy: 0.98333\n",
      "Decision Tree's F1 Score: 0.98332\n"
     ]
    }
   ],
   "source": [
    "# make predictions called y_hat\n",
    "Y_hat = drug_pres.predict(X_testset)\n",
    "\n",
    "# evaluate the model's accuracy\n",
    "print(\"Decision Tree's General Accuracy: %.5f\" % metrics.accuracy_score(Y_testset, Y_hat))\n",
    "print(\"Decision Tree's F1 Score: %.5f\" % metrics.f1_score(Y_testset, Y_hat, average='weighted'))"
   ]
  },
  {
   "cell_type": "markdown",
   "metadata": {},
   "source": [
    "### 2.4 Visualizing Decision Trees\n",
    "Given the limited depth and high accuracy of this drug-prescription decision tree model, a visual representation may help to illustrate the process of decision-making and guide medical professional to make prescription for their patients with the same illness.  "
   ]
  },
  {
   "cell_type": "code",
   "execution_count": null,
   "metadata": {},
   "outputs": [],
   "source": [
    "# packages for visualization\n",
    "!conda install -c conda-forge pydotplus -y\n",
    "!conda install -c conda-forge python-graphviz -y"
   ]
  },
  {
   "cell_type": "code",
   "execution_count": 13,
   "metadata": {},
   "outputs": [
    {
     "data": {
      "image/svg+xml": [
       "<?xml version=\"1.0\" encoding=\"UTF-8\" standalone=\"no\"?>\n",
       "<!DOCTYPE svg PUBLIC \"-//W3C//DTD SVG 1.1//EN\"\n",
       " \"http://www.w3.org/Graphics/SVG/1.1/DTD/svg11.dtd\">\n",
       "<!-- Generated by graphviz version 2.40.1 (20161225.0304)\n",
       " -->\n",
       "<!-- Title: Tree Pages: 1 -->\n",
       "<svg width=\"780pt\" height=\"552pt\"\n",
       " viewBox=\"0.00 0.00 780.00 552.00\" xmlns=\"http://www.w3.org/2000/svg\" xmlns:xlink=\"http://www.w3.org/1999/xlink\">\n",
       "<g id=\"graph0\" class=\"graph\" transform=\"scale(1 1) rotate(0) translate(4 548)\">\n",
       "<title>Tree</title>\n",
       "<polygon fill=\"#ffffff\" stroke=\"transparent\" points=\"-4,4 -4,-548 776,-548 776,4 -4,4\"/>\n",
       "<!-- 0 -->\n",
       "<g id=\"node1\" class=\"node\">\n",
       "<title>0</title>\n",
       "<path fill=\"#e539c0\" fill-opacity=\"0.337255\" stroke=\"#000000\" d=\"M582,-544C582,-544 393,-544 393,-544 387,-544 381,-538 381,-532 381,-532 381,-473 381,-473 381,-467 387,-461 393,-461 393,-461 582,-461 582,-461 588,-461 594,-467 594,-473 594,-473 594,-532 594,-532 594,-538 588,-544 582,-544\"/>\n",
       "<text text-anchor=\"start\" x=\"423\" y=\"-528.8\" font-family=\"Helvetica,sans-Serif\" font-size=\"14.00\" fill=\"#000000\">Na_to_K ≤ 14.615</text>\n",
       "<text text-anchor=\"start\" x=\"428.5\" y=\"-513.8\" font-family=\"Helvetica,sans-Serif\" font-size=\"14.00\" fill=\"#000000\">entropy = 1.929</text>\n",
       "<text text-anchor=\"start\" x=\"433\" y=\"-498.8\" font-family=\"Helvetica,sans-Serif\" font-size=\"14.00\" fill=\"#000000\">samples = 140</text>\n",
       "<text text-anchor=\"start\" x=\"389\" y=\"-483.8\" font-family=\"Helvetica,sans-Serif\" font-size=\"14.00\" fill=\"#000000\">value = [16, 11, 11, 33, 69]</text>\n",
       "<text text-anchor=\"start\" x=\"438\" y=\"-468.8\" font-family=\"Helvetica,sans-Serif\" font-size=\"14.00\" fill=\"#000000\">class = drugY</text>\n",
       "</g>\n",
       "<!-- 1 -->\n",
       "<g id=\"node2\" class=\"node\">\n",
       "<title>1</title>\n",
       "<path fill=\"#3c39e5\" fill-opacity=\"0.309804\" stroke=\"#000000\" d=\"M473.5,-425C473.5,-425 293.5,-425 293.5,-425 287.5,-425 281.5,-419 281.5,-413 281.5,-413 281.5,-354 281.5,-354 281.5,-348 287.5,-342 293.5,-342 293.5,-342 473.5,-342 473.5,-342 479.5,-342 485.5,-348 485.5,-354 485.5,-354 485.5,-413 485.5,-413 485.5,-419 479.5,-425 473.5,-425\"/>\n",
       "<text text-anchor=\"start\" x=\"352.5\" y=\"-409.8\" font-family=\"Helvetica,sans-Serif\" font-size=\"14.00\" fill=\"#000000\">BP ≤ 0.5</text>\n",
       "<text text-anchor=\"start\" x=\"324.5\" y=\"-394.8\" font-family=\"Helvetica,sans-Serif\" font-size=\"14.00\" fill=\"#000000\">entropy = 1.832</text>\n",
       "<text text-anchor=\"start\" x=\"333.5\" y=\"-379.8\" font-family=\"Helvetica,sans-Serif\" font-size=\"14.00\" fill=\"#000000\">samples = 71</text>\n",
       "<text text-anchor=\"start\" x=\"289.5\" y=\"-364.8\" font-family=\"Helvetica,sans-Serif\" font-size=\"14.00\" fill=\"#000000\">value = [16, 11, 11, 33, 0]</text>\n",
       "<text text-anchor=\"start\" x=\"333.5\" y=\"-349.8\" font-family=\"Helvetica,sans-Serif\" font-size=\"14.00\" fill=\"#000000\">class = drugX</text>\n",
       "</g>\n",
       "<!-- 0&#45;&gt;1 -->\n",
       "<g id=\"edge1\" class=\"edge\">\n",
       "<title>0&#45;&gt;1</title>\n",
       "<path fill=\"none\" stroke=\"#000000\" d=\"M451.1258,-460.8796C443.2548,-451.8733 434.8571,-442.2644 426.7515,-432.9897\"/>\n",
       "<polygon fill=\"#000000\" stroke=\"#000000\" points=\"429.2454,-430.5246 420.0294,-425.2981 423.9746,-435.131 429.2454,-430.5246\"/>\n",
       "<text text-anchor=\"middle\" x=\"418.3516\" y=\"-446.5417\" font-family=\"Helvetica,sans-Serif\" font-size=\"14.00\" fill=\"#000000\">True</text>\n",
       "</g>\n",
       "<!-- 10 -->\n",
       "<g id=\"node11\" class=\"node\">\n",
       "<title>10</title>\n",
       "<path fill=\"#e539c0\" stroke=\"#000000\" d=\"M668,-417.5C668,-417.5 515,-417.5 515,-417.5 509,-417.5 503,-411.5 503,-405.5 503,-405.5 503,-361.5 503,-361.5 503,-355.5 509,-349.5 515,-349.5 515,-349.5 668,-349.5 668,-349.5 674,-349.5 680,-355.5 680,-361.5 680,-361.5 680,-405.5 680,-405.5 680,-411.5 674,-417.5 668,-417.5\"/>\n",
       "<text text-anchor=\"start\" x=\"541.5\" y=\"-402.3\" font-family=\"Helvetica,sans-Serif\" font-size=\"14.00\" fill=\"#000000\">entropy = 0.0</text>\n",
       "<text text-anchor=\"start\" x=\"541.5\" y=\"-387.3\" font-family=\"Helvetica,sans-Serif\" font-size=\"14.00\" fill=\"#000000\">samples = 69</text>\n",
       "<text text-anchor=\"start\" x=\"511\" y=\"-372.3\" font-family=\"Helvetica,sans-Serif\" font-size=\"14.00\" fill=\"#000000\">value = [0, 0, 0, 0, 69]</text>\n",
       "<text text-anchor=\"start\" x=\"542\" y=\"-357.3\" font-family=\"Helvetica,sans-Serif\" font-size=\"14.00\" fill=\"#000000\">class = drugY</text>\n",
       "</g>\n",
       "<!-- 0&#45;&gt;10 -->\n",
       "<g id=\"edge10\" class=\"edge\">\n",
       "<title>0&#45;&gt;10</title>\n",
       "<path fill=\"none\" stroke=\"#000000\" d=\"M523.8742,-460.8796C533.8686,-449.4436 544.712,-437.0363 554.7286,-425.575\"/>\n",
       "<polygon fill=\"#000000\" stroke=\"#000000\" points=\"557.5653,-427.6479 561.5105,-417.8149 552.2945,-423.0414 557.5653,-427.6479\"/>\n",
       "<text text-anchor=\"middle\" x=\"563.1883\" y=\"-439.0586\" font-family=\"Helvetica,sans-Serif\" font-size=\"14.00\" fill=\"#000000\">False</text>\n",
       "</g>\n",
       "<!-- 2 -->\n",
       "<g id=\"node3\" class=\"node\">\n",
       "<title>2</title>\n",
       "<path fill=\"#e58139\" fill-opacity=\"0.313725\" stroke=\"#000000\" d=\"M362.5,-306C362.5,-306 200.5,-306 200.5,-306 194.5,-306 188.5,-300 188.5,-294 188.5,-294 188.5,-235 188.5,-235 188.5,-229 194.5,-223 200.5,-223 200.5,-223 362.5,-223 362.5,-223 368.5,-223 374.5,-229 374.5,-235 374.5,-235 374.5,-294 374.5,-294 374.5,-300 368.5,-306 362.5,-306\"/>\n",
       "<text text-anchor=\"start\" x=\"241\" y=\"-290.8\" font-family=\"Helvetica,sans-Serif\" font-size=\"14.00\" fill=\"#000000\">Age ≤ 50.5</text>\n",
       "<text text-anchor=\"start\" x=\"222.5\" y=\"-275.8\" font-family=\"Helvetica,sans-Serif\" font-size=\"14.00\" fill=\"#000000\">entropy = 0.975</text>\n",
       "<text text-anchor=\"start\" x=\"231.5\" y=\"-260.8\" font-family=\"Helvetica,sans-Serif\" font-size=\"14.00\" fill=\"#000000\">samples = 27</text>\n",
       "<text text-anchor=\"start\" x=\"196.5\" y=\"-245.8\" font-family=\"Helvetica,sans-Serif\" font-size=\"14.00\" fill=\"#000000\">value = [16, 11, 0, 0, 0]</text>\n",
       "<text text-anchor=\"start\" x=\"231.5\" y=\"-230.8\" font-family=\"Helvetica,sans-Serif\" font-size=\"14.00\" fill=\"#000000\">class = drugA</text>\n",
       "</g>\n",
       "<!-- 1&#45;&gt;2 -->\n",
       "<g id=\"edge2\" class=\"edge\">\n",
       "<title>1&#45;&gt;2</title>\n",
       "<path fill=\"none\" stroke=\"#000000\" d=\"M347.8253,-341.8796C340.1057,-332.8733 331.8695,-323.2644 323.9197,-313.9897\"/>\n",
       "<polygon fill=\"#000000\" stroke=\"#000000\" points=\"326.4923,-311.6129 317.3269,-306.2981 321.1775,-316.1684 326.4923,-311.6129\"/>\n",
       "</g>\n",
       "<!-- 5 -->\n",
       "<g id=\"node6\" class=\"node\">\n",
       "<title>5</title>\n",
       "<path fill=\"#3c39e5\" fill-opacity=\"0.666667\" stroke=\"#000000\" d=\"M566.5,-306C566.5,-306 404.5,-306 404.5,-306 398.5,-306 392.5,-300 392.5,-294 392.5,-294 392.5,-235 392.5,-235 392.5,-229 398.5,-223 404.5,-223 404.5,-223 566.5,-223 566.5,-223 572.5,-223 578.5,-229 578.5,-235 578.5,-235 578.5,-294 578.5,-294 578.5,-300 572.5,-306 566.5,-306\"/>\n",
       "<text text-anchor=\"start\" x=\"423\" y=\"-290.8\" font-family=\"Helvetica,sans-Serif\" font-size=\"14.00\" fill=\"#000000\">Cholesterol ≤ 0.5</text>\n",
       "<text text-anchor=\"start\" x=\"426.5\" y=\"-275.8\" font-family=\"Helvetica,sans-Serif\" font-size=\"14.00\" fill=\"#000000\">entropy = 0.811</text>\n",
       "<text text-anchor=\"start\" x=\"435.5\" y=\"-260.8\" font-family=\"Helvetica,sans-Serif\" font-size=\"14.00\" fill=\"#000000\">samples = 44</text>\n",
       "<text text-anchor=\"start\" x=\"400.5\" y=\"-245.8\" font-family=\"Helvetica,sans-Serif\" font-size=\"14.00\" fill=\"#000000\">value = [0, 0, 11, 33, 0]</text>\n",
       "<text text-anchor=\"start\" x=\"435.5\" y=\"-230.8\" font-family=\"Helvetica,sans-Serif\" font-size=\"14.00\" fill=\"#000000\">class = drugX</text>\n",
       "</g>\n",
       "<!-- 1&#45;&gt;5 -->\n",
       "<g id=\"edge5\" class=\"edge\">\n",
       "<title>1&#45;&gt;5</title>\n",
       "<path fill=\"none\" stroke=\"#000000\" d=\"M419.1747,-341.8796C426.8943,-332.8733 435.1305,-323.2644 443.0803,-313.9897\"/>\n",
       "<polygon fill=\"#000000\" stroke=\"#000000\" points=\"445.8225,-316.1684 449.6731,-306.2981 440.5077,-311.6129 445.8225,-316.1684\"/>\n",
       "</g>\n",
       "<!-- 3 -->\n",
       "<g id=\"node4\" class=\"node\">\n",
       "<title>3</title>\n",
       "<path fill=\"#e58139\" stroke=\"#000000\" d=\"M165,-179.5C165,-179.5 12,-179.5 12,-179.5 6,-179.5 0,-173.5 0,-167.5 0,-167.5 0,-123.5 0,-123.5 0,-117.5 6,-111.5 12,-111.5 12,-111.5 165,-111.5 165,-111.5 171,-111.5 177,-117.5 177,-123.5 177,-123.5 177,-167.5 177,-167.5 177,-173.5 171,-179.5 165,-179.5\"/>\n",
       "<text text-anchor=\"start\" x=\"38.5\" y=\"-164.3\" font-family=\"Helvetica,sans-Serif\" font-size=\"14.00\" fill=\"#000000\">entropy = 0.0</text>\n",
       "<text text-anchor=\"start\" x=\"38.5\" y=\"-149.3\" font-family=\"Helvetica,sans-Serif\" font-size=\"14.00\" fill=\"#000000\">samples = 16</text>\n",
       "<text text-anchor=\"start\" x=\"8\" y=\"-134.3\" font-family=\"Helvetica,sans-Serif\" font-size=\"14.00\" fill=\"#000000\">value = [16, 0, 0, 0, 0]</text>\n",
       "<text text-anchor=\"start\" x=\"38.5\" y=\"-119.3\" font-family=\"Helvetica,sans-Serif\" font-size=\"14.00\" fill=\"#000000\">class = drugA</text>\n",
       "</g>\n",
       "<!-- 2&#45;&gt;3 -->\n",
       "<g id=\"edge3\" class=\"edge\">\n",
       "<title>2&#45;&gt;3</title>\n",
       "<path fill=\"none\" stroke=\"#000000\" d=\"M213.998,-222.8796C194.0184,-210.5606 172.2105,-197.1143 152.4619,-184.9376\"/>\n",
       "<polygon fill=\"#000000\" stroke=\"#000000\" points=\"154.1914,-181.8922 143.8424,-179.623 150.5175,-187.8507 154.1914,-181.8922\"/>\n",
       "</g>\n",
       "<!-- 4 -->\n",
       "<g id=\"node5\" class=\"node\">\n",
       "<title>4</title>\n",
       "<path fill=\"#7be539\" stroke=\"#000000\" d=\"M360,-179.5C360,-179.5 207,-179.5 207,-179.5 201,-179.5 195,-173.5 195,-167.5 195,-167.5 195,-123.5 195,-123.5 195,-117.5 201,-111.5 207,-111.5 207,-111.5 360,-111.5 360,-111.5 366,-111.5 372,-117.5 372,-123.5 372,-123.5 372,-167.5 372,-167.5 372,-173.5 366,-179.5 360,-179.5\"/>\n",
       "<text text-anchor=\"start\" x=\"233.5\" y=\"-164.3\" font-family=\"Helvetica,sans-Serif\" font-size=\"14.00\" fill=\"#000000\">entropy = 0.0</text>\n",
       "<text text-anchor=\"start\" x=\"233.5\" y=\"-149.3\" font-family=\"Helvetica,sans-Serif\" font-size=\"14.00\" fill=\"#000000\">samples = 11</text>\n",
       "<text text-anchor=\"start\" x=\"203\" y=\"-134.3\" font-family=\"Helvetica,sans-Serif\" font-size=\"14.00\" fill=\"#000000\">value = [0, 11, 0, 0, 0]</text>\n",
       "<text text-anchor=\"start\" x=\"233.5\" y=\"-119.3\" font-family=\"Helvetica,sans-Serif\" font-size=\"14.00\" fill=\"#000000\">class = drugB</text>\n",
       "</g>\n",
       "<!-- 2&#45;&gt;4 -->\n",
       "<g id=\"edge4\" class=\"edge\">\n",
       "<title>2&#45;&gt;4</title>\n",
       "<path fill=\"none\" stroke=\"#000000\" d=\"M282.1995,-222.8796C282.3788,-212.2134 282.5722,-200.7021 282.7538,-189.9015\"/>\n",
       "<polygon fill=\"#000000\" stroke=\"#000000\" points=\"286.2546,-189.8724 282.9233,-179.8149 279.2556,-189.7547 286.2546,-189.8724\"/>\n",
       "</g>\n",
       "<!-- 6 -->\n",
       "<g id=\"node7\" class=\"node\">\n",
       "<title>6</title>\n",
       "<path fill=\"#39e5c5\" fill-opacity=\"0.090196\" stroke=\"#000000\" d=\"M565.5,-187C565.5,-187 403.5,-187 403.5,-187 397.5,-187 391.5,-181 391.5,-175 391.5,-175 391.5,-116 391.5,-116 391.5,-110 397.5,-104 403.5,-104 403.5,-104 565.5,-104 565.5,-104 571.5,-104 577.5,-110 577.5,-116 577.5,-116 577.5,-175 577.5,-175 577.5,-181 571.5,-187 565.5,-187\"/>\n",
       "<text text-anchor=\"start\" x=\"453.5\" y=\"-171.8\" font-family=\"Helvetica,sans-Serif\" font-size=\"14.00\" fill=\"#000000\">BP ≤ 1.5</text>\n",
       "<text text-anchor=\"start\" x=\"425.5\" y=\"-156.8\" font-family=\"Helvetica,sans-Serif\" font-size=\"14.00\" fill=\"#000000\">entropy = 0.998</text>\n",
       "<text text-anchor=\"start\" x=\"434.5\" y=\"-141.8\" font-family=\"Helvetica,sans-Serif\" font-size=\"14.00\" fill=\"#000000\">samples = 21</text>\n",
       "<text text-anchor=\"start\" x=\"399.5\" y=\"-126.8\" font-family=\"Helvetica,sans-Serif\" font-size=\"14.00\" fill=\"#000000\">value = [0, 0, 11, 10, 0]</text>\n",
       "<text text-anchor=\"start\" x=\"434.5\" y=\"-111.8\" font-family=\"Helvetica,sans-Serif\" font-size=\"14.00\" fill=\"#000000\">class = drugC</text>\n",
       "</g>\n",
       "<!-- 5&#45;&gt;6 -->\n",
       "<g id=\"edge6\" class=\"edge\">\n",
       "<title>5&#45;&gt;6</title>\n",
       "<path fill=\"none\" stroke=\"#000000\" d=\"M485.1502,-222.8796C485.0814,-214.6838 485.0083,-205.9891 484.937,-197.5013\"/>\n",
       "<polygon fill=\"#000000\" stroke=\"#000000\" points=\"488.4352,-197.2683 484.8512,-187.2981 481.4355,-197.3272 488.4352,-197.2683\"/>\n",
       "</g>\n",
       "<!-- 9 -->\n",
       "<g id=\"node10\" class=\"node\">\n",
       "<title>9</title>\n",
       "<path fill=\"#3c39e5\" stroke=\"#000000\" d=\"M760,-179.5C760,-179.5 607,-179.5 607,-179.5 601,-179.5 595,-173.5 595,-167.5 595,-167.5 595,-123.5 595,-123.5 595,-117.5 601,-111.5 607,-111.5 607,-111.5 760,-111.5 760,-111.5 766,-111.5 772,-117.5 772,-123.5 772,-123.5 772,-167.5 772,-167.5 772,-173.5 766,-179.5 760,-179.5\"/>\n",
       "<text text-anchor=\"start\" x=\"633.5\" y=\"-164.3\" font-family=\"Helvetica,sans-Serif\" font-size=\"14.00\" fill=\"#000000\">entropy = 0.0</text>\n",
       "<text text-anchor=\"start\" x=\"633.5\" y=\"-149.3\" font-family=\"Helvetica,sans-Serif\" font-size=\"14.00\" fill=\"#000000\">samples = 23</text>\n",
       "<text text-anchor=\"start\" x=\"603\" y=\"-134.3\" font-family=\"Helvetica,sans-Serif\" font-size=\"14.00\" fill=\"#000000\">value = [0, 0, 0, 23, 0]</text>\n",
       "<text text-anchor=\"start\" x=\"633.5\" y=\"-119.3\" font-family=\"Helvetica,sans-Serif\" font-size=\"14.00\" fill=\"#000000\">class = drugX</text>\n",
       "</g>\n",
       "<!-- 5&#45;&gt;9 -->\n",
       "<g id=\"edge9\" class=\"edge\">\n",
       "<title>5&#45;&gt;9</title>\n",
       "<path fill=\"none\" stroke=\"#000000\" d=\"M554.7508,-222.8796C575.248,-210.5606 597.6208,-197.1143 617.8811,-184.9376\"/>\n",
       "<polygon fill=\"#000000\" stroke=\"#000000\" points=\"619.9557,-187.7743 626.7239,-179.623 616.3498,-181.7745 619.9557,-187.7743\"/>\n",
       "</g>\n",
       "<!-- 7 -->\n",
       "<g id=\"node8\" class=\"node\">\n",
       "<title>7</title>\n",
       "<path fill=\"#39e5c5\" stroke=\"#000000\" d=\"M463,-68C463,-68 310,-68 310,-68 304,-68 298,-62 298,-56 298,-56 298,-12 298,-12 298,-6 304,0 310,0 310,0 463,0 463,0 469,0 475,-6 475,-12 475,-12 475,-56 475,-56 475,-62 469,-68 463,-68\"/>\n",
       "<text text-anchor=\"start\" x=\"336.5\" y=\"-52.8\" font-family=\"Helvetica,sans-Serif\" font-size=\"14.00\" fill=\"#000000\">entropy = 0.0</text>\n",
       "<text text-anchor=\"start\" x=\"336.5\" y=\"-37.8\" font-family=\"Helvetica,sans-Serif\" font-size=\"14.00\" fill=\"#000000\">samples = 11</text>\n",
       "<text text-anchor=\"start\" x=\"306\" y=\"-22.8\" font-family=\"Helvetica,sans-Serif\" font-size=\"14.00\" fill=\"#000000\">value = [0, 0, 11, 0, 0]</text>\n",
       "<text text-anchor=\"start\" x=\"336.5\" y=\"-7.8\" font-family=\"Helvetica,sans-Serif\" font-size=\"14.00\" fill=\"#000000\">class = drugC</text>\n",
       "</g>\n",
       "<!-- 6&#45;&gt;7 -->\n",
       "<g id=\"edge7\" class=\"edge\">\n",
       "<title>6&#45;&gt;7</title>\n",
       "<path fill=\"none\" stroke=\"#000000\" d=\"M448.0084,-103.9815C439.9305,-94.7908 431.3666,-85.0472 423.2774,-75.8436\"/>\n",
       "<polygon fill=\"#000000\" stroke=\"#000000\" points=\"425.8458,-73.4642 416.6152,-68.2637 420.588,-78.0855 425.8458,-73.4642\"/>\n",
       "</g>\n",
       "<!-- 8 -->\n",
       "<g id=\"node9\" class=\"node\">\n",
       "<title>8</title>\n",
       "<path fill=\"#3c39e5\" stroke=\"#000000\" d=\"M658,-68C658,-68 505,-68 505,-68 499,-68 493,-62 493,-56 493,-56 493,-12 493,-12 493,-6 499,0 505,0 505,0 658,0 658,0 664,0 670,-6 670,-12 670,-12 670,-56 670,-56 670,-62 664,-68 658,-68\"/>\n",
       "<text text-anchor=\"start\" x=\"531.5\" y=\"-52.8\" font-family=\"Helvetica,sans-Serif\" font-size=\"14.00\" fill=\"#000000\">entropy = 0.0</text>\n",
       "<text text-anchor=\"start\" x=\"531.5\" y=\"-37.8\" font-family=\"Helvetica,sans-Serif\" font-size=\"14.00\" fill=\"#000000\">samples = 10</text>\n",
       "<text text-anchor=\"start\" x=\"501\" y=\"-22.8\" font-family=\"Helvetica,sans-Serif\" font-size=\"14.00\" fill=\"#000000\">value = [0, 0, 0, 10, 0]</text>\n",
       "<text text-anchor=\"start\" x=\"531.5\" y=\"-7.8\" font-family=\"Helvetica,sans-Serif\" font-size=\"14.00\" fill=\"#000000\">class = drugX</text>\n",
       "</g>\n",
       "<!-- 6&#45;&gt;8 -->\n",
       "<g id=\"edge8\" class=\"edge\">\n",
       "<title>6&#45;&gt;8</title>\n",
       "<path fill=\"none\" stroke=\"#000000\" d=\"M520.6192,-103.9815C528.6147,-94.7908 537.0913,-85.0472 545.0979,-75.8436\"/>\n",
       "<polygon fill=\"#000000\" stroke=\"#000000\" points=\"547.7693,-78.1055 551.6921,-68.2637 542.488,-73.5111 547.7693,-78.1055\"/>\n",
       "</g>\n",
       "</g>\n",
       "</svg>\n"
      ],
      "text/plain": [
       "<graphviz.files.Source at 0x7fc767434d30>"
      ]
     },
     "execution_count": 13,
     "metadata": {},
     "output_type": "execute_result"
    }
   ],
   "source": [
    "import pydotplus\n",
    "import graphviz\n",
    "from sklearn import tree\n",
    "\n",
    "dot_data = tree.export_graphviz(drug_pres, # this is the decision tree\n",
    "                                out_file=None, \n",
    "                                feature_names=med_study.columns[0:5], # those are the name of features \n",
    "                                class_names= np.unique(Y),  # those are the drug names\n",
    "                                filled=True,\n",
    "                                rounded=True,  \n",
    "                                special_characters=True)  \n",
    "graph = graphviz.Source(dot_data)\n",
    "graph"
   ]
  },
  {
   "cell_type": "markdown",
   "metadata": {},
   "source": [
    "__Reading the Decision Tree Graph__\n",
    "\n",
    "The first line in each node represents a condition of a feature from the feature set. If the condition is _true_, the tree unfolds _left_ into a new branch or leave. If the condition is _false_, the tree unfolds _right_ into new branch or leave. The second line in each node (and the first line in each leave) is entropy. Recall that the goal of the decision tree is to find the combination of features that lead to pure leaves. If a combination of features leads to entropy = 0, the leave is pure and there is only one possible outcome of all given classes. But if entropy is > 0, then the branch will be split again. The decision tree will split until it reaches its pre-specified maximum depth, or without out one, until all leaves are pure.\n",
    "\n",
    "For the graph above, if a patient has a sodium-to-potassium level > 14.615, then the decision categorically recommends DrugY, without needing to consider other features of the patient. If a patients sodium-to-potassium level is ≤ 14.615, then the decision tree considers whether the patient's blood pressure value is at a certain threshold (this refer to encoded labels). Thus, the decision tree graph reveals what combination of features 'predict' what type of drug a patient should be prescribed for their illness."
   ]
  }
 ],
 "metadata": {
  "kernelspec": {
   "display_name": "Python",
   "language": "python",
   "name": "conda-env-python-py"
  },
  "language_info": {
   "codemirror_mode": {
    "name": "ipython",
    "version": 3
   },
   "file_extension": ".py",
   "mimetype": "text/x-python",
   "name": "python",
   "nbconvert_exporter": "python",
   "pygments_lexer": "ipython3",
   "version": "3.6.11"
  }
 },
 "nbformat": 4,
 "nbformat_minor": 4
}
