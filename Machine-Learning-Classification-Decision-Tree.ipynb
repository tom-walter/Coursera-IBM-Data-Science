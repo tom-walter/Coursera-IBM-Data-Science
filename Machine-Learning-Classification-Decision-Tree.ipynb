{
 "cells": [
  {
   "cell_type": "markdown",
   "metadata": {},
   "source": [
    "# Machine Learning: Classification - Decision Tree\n",
    "## 1. Introduction\n",
    "### 1.1 What are Decision Trees?\n",
    "A Decision Tree is a predictive modelling approach for classification in data mining and machine learning. The Decision Tree iterates through the features about a case (represented in the _branches_) to conclusions about the case’s target value (represented in the _leaves_). They can be employed for binary or multi-class classification. In Decision Trees, leaves represent class labels and branches represent combinations of features that lead to those class labels. The criterion by which branches eventually lead to pure leaves, where 100% of its cases fall into a single class is called _‘entropy’_. Entropy describes the amount of information disorder, if the sample of cases in a node is completely _homogenous_ (i.e. 100% a single class), then the entropy equal 0. If the sample of cases in a node is completely _heterogenous_ (i.e. split 50-50 between the 2 classes), then entropy equals 1. Decision Trees where the target variable takes continuous value are called regression trees. \n",
    "\n",
    "Decision Trees are among the most popular machine learning algorithms for classification because of their simplicty and intelligbility as they can be used to visually and explicitly represent decisions similar to human decision-making.\n",
    "\n",
    "### 1.2 Advantages and Disadvantages\n",
    "\n",
    "| Advantages | Disadvantages |\n",
    "|------------|---------------|\n",
    "| simple to understand and read (by humans) | structure can be upset easily or get overly complex |\n",
    "| can handle categorical and numerical data | is only heuristic ML algorithm |\n",
    "| robust against co-linearity (drops redundant features) | |\n",
    "| white-box or open box model (easy to understand as compared to black box model) |  | \n",
    "| easy to validate with statistical tests | can still be non-robust as changes in training data may upset entire structure |\n",
    "| several boosting methods available | |\n",
    "\n",
    "https://en.wikipedia.org/wiki/Decision_tree_learning\n",
    "\n",
    "This notebook will focus on decision tree classification with scikit-learn.\n",
    "\n",
    "https://scikit-learn.org/stable/modules/tree.html"
   ]
  },
  {
   "cell_type": "markdown",
   "metadata": {},
   "source": [
    "## 2. Decision Tree Classification\n",
    "### 2.1 The Goal and the Dataset\n",
    "A medical researcher compiles data for a study. The collected data is about a set of patients, all of whom suffered from the same illness, but during their course of treatment, each patient responded to 1 out of 5 medications: Drug A, Drug B, Drug c, Drug x and y. \n",
    "\n",
    "As data scientist you need to build a model to find out which drug might be appropriate for a future patient with the same illness. The feature sets of this dataset are Age, Sex, Blood Pressure, Cholesterol and Sodium-to-Potassium of patients, and the target is the drug that each patient responded to. \n",
    "\n",
    "This is an example of a multi-class classifier. Use the given dataset to to build and train a decision tree, and then use it to predict the class of a unknown patient, or to prescribe it to a new patient."
   ]
  },
  {
   "cell_type": "code",
   "execution_count": 1,
   "metadata": {},
   "outputs": [],
   "source": [
    "# import necessary libraries\n",
    "import numpy as np \n",
    "import pandas as pd\n",
    "from sklearn import preprocessing\n",
    "from sklearn.tree import DecisionTreeClassifier\n",
    "from sklearn.model_selection import train_test_split\n",
    "from sklearn import metrics"
   ]
  },
  {
   "cell_type": "code",
   "execution_count": 2,
   "metadata": {},
   "outputs": [
    {
     "name": "stdout",
     "output_type": "stream",
     "text": [
      "Dataset downloaded.\n"
     ]
    }
   ],
   "source": [
    "# download the dataset from IBM storage\n",
    "!wget -O drug200.csv https://s3-api.us-geo.objectstorage.softlayer.net/cf-courses-data/CognitiveClass/ML0101ENv3/labs/drug200.csv\n",
    "print(\"Dataset downloaded.\")"
   ]
  },
  {
   "cell_type": "code",
   "execution_count": 3,
   "metadata": {},
   "outputs": [
    {
     "name": "stdout",
     "output_type": "stream",
     "text": [
      "Shape of Dataset (200, 6)\n"
     ]
    },
    {
     "data": {
      "text/html": [
       "<div>\n",
       "<style scoped>\n",
       "    .dataframe tbody tr th:only-of-type {\n",
       "        vertical-align: middle;\n",
       "    }\n",
       "\n",
       "    .dataframe tbody tr th {\n",
       "        vertical-align: top;\n",
       "    }\n",
       "\n",
       "    .dataframe thead th {\n",
       "        text-align: right;\n",
       "    }\n",
       "</style>\n",
       "<table border=\"1\" class=\"dataframe\">\n",
       "  <thead>\n",
       "    <tr style=\"text-align: right;\">\n",
       "      <th></th>\n",
       "      <th>Age</th>\n",
       "      <th>Sex</th>\n",
       "      <th>BP</th>\n",
       "      <th>Cholesterol</th>\n",
       "      <th>Na_to_K</th>\n",
       "      <th>Drug</th>\n",
       "    </tr>\n",
       "  </thead>\n",
       "  <tbody>\n",
       "    <tr>\n",
       "      <th>0</th>\n",
       "      <td>23</td>\n",
       "      <td>F</td>\n",
       "      <td>HIGH</td>\n",
       "      <td>HIGH</td>\n",
       "      <td>25.355</td>\n",
       "      <td>drugY</td>\n",
       "    </tr>\n",
       "    <tr>\n",
       "      <th>1</th>\n",
       "      <td>47</td>\n",
       "      <td>M</td>\n",
       "      <td>LOW</td>\n",
       "      <td>HIGH</td>\n",
       "      <td>13.093</td>\n",
       "      <td>drugC</td>\n",
       "    </tr>\n",
       "    <tr>\n",
       "      <th>2</th>\n",
       "      <td>47</td>\n",
       "      <td>M</td>\n",
       "      <td>LOW</td>\n",
       "      <td>HIGH</td>\n",
       "      <td>10.114</td>\n",
       "      <td>drugC</td>\n",
       "    </tr>\n",
       "    <tr>\n",
       "      <th>3</th>\n",
       "      <td>28</td>\n",
       "      <td>F</td>\n",
       "      <td>NORMAL</td>\n",
       "      <td>HIGH</td>\n",
       "      <td>7.798</td>\n",
       "      <td>drugX</td>\n",
       "    </tr>\n",
       "    <tr>\n",
       "      <th>4</th>\n",
       "      <td>61</td>\n",
       "      <td>F</td>\n",
       "      <td>LOW</td>\n",
       "      <td>HIGH</td>\n",
       "      <td>18.043</td>\n",
       "      <td>drugY</td>\n",
       "    </tr>\n",
       "  </tbody>\n",
       "</table>\n",
       "</div>"
      ],
      "text/plain": [
       "   Age Sex      BP Cholesterol  Na_to_K   Drug\n",
       "0   23   F    HIGH        HIGH   25.355  drugY\n",
       "1   47   M     LOW        HIGH   13.093  drugC\n",
       "2   47   M     LOW        HIGH   10.114  drugC\n",
       "3   28   F  NORMAL        HIGH    7.798  drugX\n",
       "4   61   F     LOW        HIGH   18.043  drugY"
      ]
     },
     "execution_count": 3,
     "metadata": {},
     "output_type": "execute_result"
    }
   ],
   "source": [
    "# read the dataset into a Pandas dataframe\n",
    "med_study = pd.read_csv(\"drug200.csv\", delimiter=\",\")\n",
    "print(\"Shape of Dataset\", med_study.shape)\n",
    "med_study[0:5]"
   ]
  },
  {
   "cell_type": "markdown",
   "metadata": {},
   "source": [
    "### 2.2 Data Pre-Processing\n",
    "Data Cleaning and Pre-Processing includes all steps that transform the data into a format that is legible and processible by the ML algorithm.\n",
    "Although Decision Trees requires very little pre-processing, there are some categorical features that must be encoded, i.e. Sex, Blood Pressure, and Cholesterol.\n",
    "\n",
    "The dataset will also be split into training and testing subsets for performance evaluation later on. "
   ]
  },
  {
   "cell_type": "code",
   "execution_count": 4,
   "metadata": {},
   "outputs": [
    {
     "data": {
      "text/plain": [
       "0    104\n",
       "1     96\n",
       "Name: Sex, dtype: int64"
      ]
     },
     "execution_count": 4,
     "metadata": {},
     "output_type": "execute_result"
    }
   ],
   "source": [
    "# encode Sex\n",
    "encoding_Sex = {\"Sex\": \n",
    "                            {\"F\": 1,\n",
    "                             \"M\": 0,\n",
    "                             }}\n",
    "med_study.replace(encoding_Sex, inplace=True)\n",
    "med_study['Sex'].value_counts()"
   ]
  },
  {
   "cell_type": "code",
   "execution_count": 5,
   "metadata": {},
   "outputs": [
    {
     "data": {
      "text/plain": [
       "HIGH      77\n",
       "LOW       64\n",
       "NORMAL    59\n",
       "Name: BP, dtype: int64"
      ]
     },
     "execution_count": 5,
     "metadata": {},
     "output_type": "execute_result"
    }
   ],
   "source": [
    "med_study['BP'].value_counts()"
   ]
  },
  {
   "cell_type": "code",
   "execution_count": 6,
   "metadata": {},
   "outputs": [
    {
     "data": {
      "text/plain": [
       "2    77\n",
       "0    64\n",
       "1    59\n",
       "Name: BP, dtype: int64"
      ]
     },
     "execution_count": 6,
     "metadata": {},
     "output_type": "execute_result"
    }
   ],
   "source": [
    "# encode Bloop Pressure\n",
    "encoding_BP = {\"BP\": \n",
    "                            {\"HIGH\": 2,\n",
    "                             \"NORMAL\": 1,\n",
    "                             \"LOW\": 0,\n",
    "                              }}\n",
    "med_study.replace(encoding_BP, inplace=True)\n",
    "med_study['BP'].value_counts()"
   ]
  },
  {
   "cell_type": "code",
   "execution_count": 7,
   "metadata": {},
   "outputs": [
    {
     "data": {
      "text/plain": [
       "HIGH      103\n",
       "NORMAL     97\n",
       "Name: Cholesterol, dtype: int64"
      ]
     },
     "execution_count": 7,
     "metadata": {},
     "output_type": "execute_result"
    }
   ],
   "source": [
    "med_study['Cholesterol'].value_counts()"
   ]
  },
  {
   "cell_type": "code",
   "execution_count": 8,
   "metadata": {},
   "outputs": [
    {
     "data": {
      "text/plain": [
       "1    103\n",
       "0     97\n",
       "Name: Cholesterol, dtype: int64"
      ]
     },
     "execution_count": 8,
     "metadata": {},
     "output_type": "execute_result"
    }
   ],
   "source": [
    "# encode Cholesterol\n",
    "encoding_Cholesterol = {\"Cholesterol\": \n",
    "                            {\"HIGH\": 1,\n",
    "                             \"NORMAL\": 0,\n",
    "                              }}\n",
    "med_study.replace(encoding_Cholesterol, inplace=True)\n",
    "med_study['Cholesterol'].value_counts()"
   ]
  },
  {
   "cell_type": "code",
   "execution_count": 9,
   "metadata": {},
   "outputs": [
    {
     "name": "stdout",
     "output_type": "stream",
     "text": [
      "[[23.     1.     2.     1.    25.355]\n",
      " [47.     0.     0.     1.    13.093]\n",
      " [47.     0.     0.     1.    10.114]\n",
      " [28.     1.     1.     1.     7.798]\n",
      " [61.     1.     0.     1.    18.043]]\n",
      "0    drugY\n",
      "1    drugC\n",
      "2    drugC\n",
      "3    drugX\n",
      "4    drugY\n",
      "Name: Drug, dtype: object\n"
     ]
    }
   ],
   "source": [
    "# create a feature set X that includes the patients' features\n",
    "X = med_study[['Age', 'Sex', 'BP', 'Cholesterol', 'Na_to_K']].values\n",
    "\n",
    "# create a target label Y that represents that different drugs\n",
    "Y = med_study[\"Drug\"]\n",
    "\n",
    "print(X[0:5])\n",
    "print(Y[0:5])"
   ]
  },
  {
   "cell_type": "code",
   "execution_count": null,
   "metadata": {},
   "outputs": [],
   "source": [
    "# alternatively the scikit preprocessing can encode the categorical variables\n",
    "# however, manual encoding ensures that all features are legible by a human/doctor later!\n",
    "# le_sex = preprocessing.LabelEncoder()\n",
    "# le_sex.fit(['F','M'])\n",
    "# X[:,1] = le_sex.transform(X[:,1]) \n",
    "#\n",
    "# le_BP = preprocessing.LabelEncoder()\n",
    "# le_BP.fit([ 'LOW', 'NORMAL', 'HIGH'])\n",
    "# X[:,2] = le_BP.transform(X[:,2])\n",
    "#\n",
    "# le_Chol = preprocessing.LabelEncoder()\n",
    "# le_Chol.fit([ 'NORMAL', 'HIGH'])\n",
    "# X[:,3] = le_Chol.transform(X[:,3]) \n",
    "# \n",
    "# X[0:5]"
   ]
  },
  {
   "cell_type": "code",
   "execution_count": 10,
   "metadata": {},
   "outputs": [],
   "source": [
    "# split the dataset into training and testing subsets\n",
    "# testing subset will be 30% of full dataset; random state sets the seed, which can be used for reproducible results\n",
    "X_trainset, X_testset, Y_trainset, Y_testset = train_test_split(X, Y, test_size=0.3, random_state=3)"
   ]
  },
  {
   "cell_type": "markdown",
   "metadata": {},
   "source": [
    "### 2.3 Modelling the Decision Tree\n",
    "The decision tree classifier requires the following hyperparameter:\n",
    " - __criterion__: to measure the quality of the split, \"entropy\" or \"gini\"\n",
    " - __splitter__: strategy to split each node, \"best\" or \"random\"\n",
    " - __max_depth__: maximum level of nodes on the tree, default=none \n",
    " \n",
    "After modelling the decision tree, the training subset can be used to train the model."
   ]
  },
  {
   "cell_type": "code",
   "execution_count": 11,
   "metadata": {},
   "outputs": [
    {
     "data": {
      "text/plain": [
       "DecisionTreeClassifier(class_weight=None, criterion='entropy', max_depth=4,\n",
       "            max_features=None, max_leaf_nodes=None,\n",
       "            min_impurity_decrease=0.0, min_impurity_split=None,\n",
       "            min_samples_leaf=1, min_samples_split=2,\n",
       "            min_weight_fraction_leaf=0.0, presort=False, random_state=None,\n",
       "            splitter='best')"
      ]
     },
     "execution_count": 11,
     "metadata": {},
     "output_type": "execute_result"
    }
   ],
   "source": [
    "# model decision tree classifier for drug prescriptions: criterion='entropy', splitter='best', & max_depth=4\n",
    "drug_pres = DecisionTreeClassifier(criterion=\"entropy\", max_depth = 4, splitter='best')\n",
    "drug_pres # shows the default parameters"
   ]
  },
  {
   "cell_type": "code",
   "execution_count": 12,
   "metadata": {},
   "outputs": [
    {
     "data": {
      "text/plain": [
       "DecisionTreeClassifier(class_weight=None, criterion='entropy', max_depth=4,\n",
       "            max_features=None, max_leaf_nodes=None,\n",
       "            min_impurity_decrease=0.0, min_impurity_split=None,\n",
       "            min_samples_leaf=1, min_samples_split=2,\n",
       "            min_weight_fraction_leaf=0.0, presort=False, random_state=None,\n",
       "            splitter='best')"
      ]
     },
     "execution_count": 12,
     "metadata": {},
     "output_type": "execute_result"
    }
   ],
   "source": [
    "# train the decision tree with the training data\n",
    "drug_pres.fit(X_trainset, Y_trainset)"
   ]
  },
  {
   "cell_type": "markdown",
   "metadata": {},
   "source": [
    "### 2.4 Prediction and Evaluation\n",
    "Using the testing subset, the model can now be used to make prediction about what type of drug it would prescribe to a patient. Since the testing subset already has true labels (true prescriptions), they can be compared to the predicted labels in order to evaluate the performance of the model on out-of-sample data."
   ]
  },
  {
   "cell_type": "code",
   "execution_count": 13,
   "metadata": {},
   "outputs": [
    {
     "name": "stdout",
     "output_type": "stream",
     "text": [
      "Decision Tree's General Accuracy: 0.98333\n",
      "Decision Tree's F1 Score: 0.98332\n"
     ]
    }
   ],
   "source": [
    "# make predictions called y_hat\n",
    "Y_hat = drug_pres.predict(X_testset)\n",
    "\n",
    "# evaluate the model's accuracy\n",
    "print(\"Decision Tree's General Accuracy: %.5f\" % metrics.accuracy_score(Y_testset, Y_hat))\n",
    "print(\"Decision Tree's F1 Score: %.5f\" % metrics.f1_score(Y_testset, Y_hat, average='weighted'))"
   ]
  },
  {
   "cell_type": "markdown",
   "metadata": {},
   "source": [
    "### 2.4 Visualizing Decision Trees\n",
    "Given the limited depth and high accuracy of this drug-prescription decision tree model, a visual representation may help to illustrate the process of decision-making and guide medical professional to make prescription for their patients with the same illness.  "
   ]
  },
  {
   "cell_type": "code",
   "execution_count": null,
   "metadata": {},
   "outputs": [],
   "source": [
    "# packages for visualization\n",
    "!conda install -c conda-forge pydotplus -y\n",
    "!conda install -c conda-forge python-graphviz -y"
   ]
  },
  {
   "cell_type": "code",
   "execution_count": 14,
   "metadata": {},
   "outputs": [
    {
     "data": {
      "image/svg+xml": [
       "<?xml version=\"1.0\" encoding=\"UTF-8\" standalone=\"no\"?>\n",
       "<!DOCTYPE svg PUBLIC \"-//W3C//DTD SVG 1.1//EN\"\n",
       " \"http://www.w3.org/Graphics/SVG/1.1/DTD/svg11.dtd\">\n",
       "<!-- Generated by graphviz version 2.40.1 (20161225.0304)\n",
       " -->\n",
       "<!-- Title: Tree Pages: 1 -->\n",
       "<svg width=\"780pt\" height=\"552pt\"\n",
       " viewBox=\"0.00 0.00 780.00 552.00\" xmlns=\"http://www.w3.org/2000/svg\" xmlns:xlink=\"http://www.w3.org/1999/xlink\">\n",
       "<g id=\"graph0\" class=\"graph\" transform=\"scale(1 1) rotate(0) translate(4 548)\">\n",
       "<title>Tree</title>\n",
       "<polygon fill=\"#ffffff\" stroke=\"transparent\" points=\"-4,4 -4,-548 776,-548 776,4 -4,4\"/>\n",
       "<!-- 0 -->\n",
       "<g id=\"node1\" class=\"node\">\n",
       "<title>0</title>\n",
       "<path fill=\"#e539c0\" fill-opacity=\"0.337255\" stroke=\"#000000\" d=\"M586,-544C586,-544 397,-544 397,-544 391,-544 385,-538 385,-532 385,-532 385,-473 385,-473 385,-467 391,-461 397,-461 397,-461 586,-461 586,-461 592,-461 598,-467 598,-473 598,-473 598,-532 598,-532 598,-538 592,-544 586,-544\"/>\n",
       "<text text-anchor=\"start\" x=\"427\" y=\"-528.8\" font-family=\"Helvetica,sans-Serif\" font-size=\"14.00\" fill=\"#000000\">Na_to_K ≤ 14.615</text>\n",
       "<text text-anchor=\"start\" x=\"432.5\" y=\"-513.8\" font-family=\"Helvetica,sans-Serif\" font-size=\"14.00\" fill=\"#000000\">entropy = 1.929</text>\n",
       "<text text-anchor=\"start\" x=\"437\" y=\"-498.8\" font-family=\"Helvetica,sans-Serif\" font-size=\"14.00\" fill=\"#000000\">samples = 140</text>\n",
       "<text text-anchor=\"start\" x=\"393\" y=\"-483.8\" font-family=\"Helvetica,sans-Serif\" font-size=\"14.00\" fill=\"#000000\">value = [16, 11, 11, 33, 69]</text>\n",
       "<text text-anchor=\"start\" x=\"442\" y=\"-468.8\" font-family=\"Helvetica,sans-Serif\" font-size=\"14.00\" fill=\"#000000\">class = drugY</text>\n",
       "</g>\n",
       "<!-- 1 -->\n",
       "<g id=\"node2\" class=\"node\">\n",
       "<title>1</title>\n",
       "<path fill=\"#3c39e5\" fill-opacity=\"0.309804\" stroke=\"#000000\" d=\"M477.5,-425C477.5,-425 297.5,-425 297.5,-425 291.5,-425 285.5,-419 285.5,-413 285.5,-413 285.5,-354 285.5,-354 285.5,-348 291.5,-342 297.5,-342 297.5,-342 477.5,-342 477.5,-342 483.5,-342 489.5,-348 489.5,-354 489.5,-354 489.5,-413 489.5,-413 489.5,-419 483.5,-425 477.5,-425\"/>\n",
       "<text text-anchor=\"start\" x=\"356.5\" y=\"-409.8\" font-family=\"Helvetica,sans-Serif\" font-size=\"14.00\" fill=\"#000000\">BP ≤ 1.5</text>\n",
       "<text text-anchor=\"start\" x=\"328.5\" y=\"-394.8\" font-family=\"Helvetica,sans-Serif\" font-size=\"14.00\" fill=\"#000000\">entropy = 1.832</text>\n",
       "<text text-anchor=\"start\" x=\"337.5\" y=\"-379.8\" font-family=\"Helvetica,sans-Serif\" font-size=\"14.00\" fill=\"#000000\">samples = 71</text>\n",
       "<text text-anchor=\"start\" x=\"293.5\" y=\"-364.8\" font-family=\"Helvetica,sans-Serif\" font-size=\"14.00\" fill=\"#000000\">value = [16, 11, 11, 33, 0]</text>\n",
       "<text text-anchor=\"start\" x=\"337.5\" y=\"-349.8\" font-family=\"Helvetica,sans-Serif\" font-size=\"14.00\" fill=\"#000000\">class = drugX</text>\n",
       "</g>\n",
       "<!-- 0&#45;&gt;1 -->\n",
       "<g id=\"edge1\" class=\"edge\">\n",
       "<title>0&#45;&gt;1</title>\n",
       "<path fill=\"none\" stroke=\"#000000\" d=\"M455.1258,-460.8796C447.2548,-451.8733 438.8571,-442.2644 430.7515,-432.9897\"/>\n",
       "<polygon fill=\"#000000\" stroke=\"#000000\" points=\"433.2454,-430.5246 424.0294,-425.2981 427.9746,-435.131 433.2454,-430.5246\"/>\n",
       "<text text-anchor=\"middle\" x=\"422.3516\" y=\"-446.5417\" font-family=\"Helvetica,sans-Serif\" font-size=\"14.00\" fill=\"#000000\">True</text>\n",
       "</g>\n",
       "<!-- 10 -->\n",
       "<g id=\"node11\" class=\"node\">\n",
       "<title>10</title>\n",
       "<path fill=\"#e539c0\" stroke=\"#000000\" d=\"M672,-417.5C672,-417.5 519,-417.5 519,-417.5 513,-417.5 507,-411.5 507,-405.5 507,-405.5 507,-361.5 507,-361.5 507,-355.5 513,-349.5 519,-349.5 519,-349.5 672,-349.5 672,-349.5 678,-349.5 684,-355.5 684,-361.5 684,-361.5 684,-405.5 684,-405.5 684,-411.5 678,-417.5 672,-417.5\"/>\n",
       "<text text-anchor=\"start\" x=\"545.5\" y=\"-402.3\" font-family=\"Helvetica,sans-Serif\" font-size=\"14.00\" fill=\"#000000\">entropy = 0.0</text>\n",
       "<text text-anchor=\"start\" x=\"545.5\" y=\"-387.3\" font-family=\"Helvetica,sans-Serif\" font-size=\"14.00\" fill=\"#000000\">samples = 69</text>\n",
       "<text text-anchor=\"start\" x=\"515\" y=\"-372.3\" font-family=\"Helvetica,sans-Serif\" font-size=\"14.00\" fill=\"#000000\">value = [0, 0, 0, 0, 69]</text>\n",
       "<text text-anchor=\"start\" x=\"546\" y=\"-357.3\" font-family=\"Helvetica,sans-Serif\" font-size=\"14.00\" fill=\"#000000\">class = drugY</text>\n",
       "</g>\n",
       "<!-- 0&#45;&gt;10 -->\n",
       "<g id=\"edge10\" class=\"edge\">\n",
       "<title>0&#45;&gt;10</title>\n",
       "<path fill=\"none\" stroke=\"#000000\" d=\"M527.8742,-460.8796C537.8686,-449.4436 548.712,-437.0363 558.7286,-425.575\"/>\n",
       "<polygon fill=\"#000000\" stroke=\"#000000\" points=\"561.5653,-427.6479 565.5105,-417.8149 556.2945,-423.0414 561.5653,-427.6479\"/>\n",
       "<text text-anchor=\"middle\" x=\"567.1883\" y=\"-439.0586\" font-family=\"Helvetica,sans-Serif\" font-size=\"14.00\" fill=\"#000000\">False</text>\n",
       "</g>\n",
       "<!-- 2 -->\n",
       "<g id=\"node3\" class=\"node\">\n",
       "<title>2</title>\n",
       "<path fill=\"#3c39e5\" fill-opacity=\"0.666667\" stroke=\"#000000\" d=\"M366.5,-306C366.5,-306 204.5,-306 204.5,-306 198.5,-306 192.5,-300 192.5,-294 192.5,-294 192.5,-235 192.5,-235 192.5,-229 198.5,-223 204.5,-223 204.5,-223 366.5,-223 366.5,-223 372.5,-223 378.5,-229 378.5,-235 378.5,-235 378.5,-294 378.5,-294 378.5,-300 372.5,-306 366.5,-306\"/>\n",
       "<text text-anchor=\"start\" x=\"223\" y=\"-290.8\" font-family=\"Helvetica,sans-Serif\" font-size=\"14.00\" fill=\"#000000\">Cholesterol ≤ 0.5</text>\n",
       "<text text-anchor=\"start\" x=\"226.5\" y=\"-275.8\" font-family=\"Helvetica,sans-Serif\" font-size=\"14.00\" fill=\"#000000\">entropy = 0.811</text>\n",
       "<text text-anchor=\"start\" x=\"235.5\" y=\"-260.8\" font-family=\"Helvetica,sans-Serif\" font-size=\"14.00\" fill=\"#000000\">samples = 44</text>\n",
       "<text text-anchor=\"start\" x=\"200.5\" y=\"-245.8\" font-family=\"Helvetica,sans-Serif\" font-size=\"14.00\" fill=\"#000000\">value = [0, 0, 11, 33, 0]</text>\n",
       "<text text-anchor=\"start\" x=\"235.5\" y=\"-230.8\" font-family=\"Helvetica,sans-Serif\" font-size=\"14.00\" fill=\"#000000\">class = drugX</text>\n",
       "</g>\n",
       "<!-- 1&#45;&gt;2 -->\n",
       "<g id=\"edge2\" class=\"edge\">\n",
       "<title>1&#45;&gt;2</title>\n",
       "<path fill=\"none\" stroke=\"#000000\" d=\"M351.8253,-341.8796C344.1057,-332.8733 335.8695,-323.2644 327.9197,-313.9897\"/>\n",
       "<polygon fill=\"#000000\" stroke=\"#000000\" points=\"330.4923,-311.6129 321.3269,-306.2981 325.1775,-316.1684 330.4923,-311.6129\"/>\n",
       "</g>\n",
       "<!-- 7 -->\n",
       "<g id=\"node8\" class=\"node\">\n",
       "<title>7</title>\n",
       "<path fill=\"#e58139\" fill-opacity=\"0.313725\" stroke=\"#000000\" d=\"M570.5,-306C570.5,-306 408.5,-306 408.5,-306 402.5,-306 396.5,-300 396.5,-294 396.5,-294 396.5,-235 396.5,-235 396.5,-229 402.5,-223 408.5,-223 408.5,-223 570.5,-223 570.5,-223 576.5,-223 582.5,-229 582.5,-235 582.5,-235 582.5,-294 582.5,-294 582.5,-300 576.5,-306 570.5,-306\"/>\n",
       "<text text-anchor=\"start\" x=\"449\" y=\"-290.8\" font-family=\"Helvetica,sans-Serif\" font-size=\"14.00\" fill=\"#000000\">Age ≤ 50.5</text>\n",
       "<text text-anchor=\"start\" x=\"430.5\" y=\"-275.8\" font-family=\"Helvetica,sans-Serif\" font-size=\"14.00\" fill=\"#000000\">entropy = 0.975</text>\n",
       "<text text-anchor=\"start\" x=\"439.5\" y=\"-260.8\" font-family=\"Helvetica,sans-Serif\" font-size=\"14.00\" fill=\"#000000\">samples = 27</text>\n",
       "<text text-anchor=\"start\" x=\"404.5\" y=\"-245.8\" font-family=\"Helvetica,sans-Serif\" font-size=\"14.00\" fill=\"#000000\">value = [16, 11, 0, 0, 0]</text>\n",
       "<text text-anchor=\"start\" x=\"439.5\" y=\"-230.8\" font-family=\"Helvetica,sans-Serif\" font-size=\"14.00\" fill=\"#000000\">class = drugA</text>\n",
       "</g>\n",
       "<!-- 1&#45;&gt;7 -->\n",
       "<g id=\"edge7\" class=\"edge\">\n",
       "<title>1&#45;&gt;7</title>\n",
       "<path fill=\"none\" stroke=\"#000000\" d=\"M423.1747,-341.8796C430.8943,-332.8733 439.1305,-323.2644 447.0803,-313.9897\"/>\n",
       "<polygon fill=\"#000000\" stroke=\"#000000\" points=\"449.8225,-316.1684 453.6731,-306.2981 444.5077,-311.6129 449.8225,-316.1684\"/>\n",
       "</g>\n",
       "<!-- 3 -->\n",
       "<g id=\"node4\" class=\"node\">\n",
       "<title>3</title>\n",
       "<path fill=\"#3c39e5\" stroke=\"#000000\" d=\"M165,-179.5C165,-179.5 12,-179.5 12,-179.5 6,-179.5 0,-173.5 0,-167.5 0,-167.5 0,-123.5 0,-123.5 0,-117.5 6,-111.5 12,-111.5 12,-111.5 165,-111.5 165,-111.5 171,-111.5 177,-117.5 177,-123.5 177,-123.5 177,-167.5 177,-167.5 177,-173.5 171,-179.5 165,-179.5\"/>\n",
       "<text text-anchor=\"start\" x=\"38.5\" y=\"-164.3\" font-family=\"Helvetica,sans-Serif\" font-size=\"14.00\" fill=\"#000000\">entropy = 0.0</text>\n",
       "<text text-anchor=\"start\" x=\"38.5\" y=\"-149.3\" font-family=\"Helvetica,sans-Serif\" font-size=\"14.00\" fill=\"#000000\">samples = 23</text>\n",
       "<text text-anchor=\"start\" x=\"8\" y=\"-134.3\" font-family=\"Helvetica,sans-Serif\" font-size=\"14.00\" fill=\"#000000\">value = [0, 0, 0, 23, 0]</text>\n",
       "<text text-anchor=\"start\" x=\"38.5\" y=\"-119.3\" font-family=\"Helvetica,sans-Serif\" font-size=\"14.00\" fill=\"#000000\">class = drugX</text>\n",
       "</g>\n",
       "<!-- 2&#45;&gt;3 -->\n",
       "<g id=\"edge3\" class=\"edge\">\n",
       "<title>2&#45;&gt;3</title>\n",
       "<path fill=\"none\" stroke=\"#000000\" d=\"M216.599,-222.8796C196.2053,-210.5606 173.9455,-197.1143 153.7875,-184.9376\"/>\n",
       "<polygon fill=\"#000000\" stroke=\"#000000\" points=\"155.3587,-181.7977 144.9894,-179.623 151.7393,-187.7894 155.3587,-181.7977\"/>\n",
       "</g>\n",
       "<!-- 4 -->\n",
       "<g id=\"node5\" class=\"node\">\n",
       "<title>4</title>\n",
       "<path fill=\"#39e5c5\" fill-opacity=\"0.090196\" stroke=\"#000000\" d=\"M368.5,-187C368.5,-187 206.5,-187 206.5,-187 200.5,-187 194.5,-181 194.5,-175 194.5,-175 194.5,-116 194.5,-116 194.5,-110 200.5,-104 206.5,-104 206.5,-104 368.5,-104 368.5,-104 374.5,-104 380.5,-110 380.5,-116 380.5,-116 380.5,-175 380.5,-175 380.5,-181 374.5,-187 368.5,-187\"/>\n",
       "<text text-anchor=\"start\" x=\"256.5\" y=\"-171.8\" font-family=\"Helvetica,sans-Serif\" font-size=\"14.00\" fill=\"#000000\">BP ≤ 0.5</text>\n",
       "<text text-anchor=\"start\" x=\"228.5\" y=\"-156.8\" font-family=\"Helvetica,sans-Serif\" font-size=\"14.00\" fill=\"#000000\">entropy = 0.998</text>\n",
       "<text text-anchor=\"start\" x=\"237.5\" y=\"-141.8\" font-family=\"Helvetica,sans-Serif\" font-size=\"14.00\" fill=\"#000000\">samples = 21</text>\n",
       "<text text-anchor=\"start\" x=\"202.5\" y=\"-126.8\" font-family=\"Helvetica,sans-Serif\" font-size=\"14.00\" fill=\"#000000\">value = [0, 0, 11, 10, 0]</text>\n",
       "<text text-anchor=\"start\" x=\"237.5\" y=\"-111.8\" font-family=\"Helvetica,sans-Serif\" font-size=\"14.00\" fill=\"#000000\">class = drugC</text>\n",
       "</g>\n",
       "<!-- 2&#45;&gt;4 -->\n",
       "<g id=\"edge4\" class=\"edge\">\n",
       "<title>2&#45;&gt;4</title>\n",
       "<path fill=\"none\" stroke=\"#000000\" d=\"M286.1995,-222.8796C286.3372,-214.6838 286.4834,-205.9891 286.626,-197.5013\"/>\n",
       "<polygon fill=\"#000000\" stroke=\"#000000\" points=\"290.1289,-197.3555 286.7975,-187.2981 283.1299,-197.2378 290.1289,-197.3555\"/>\n",
       "</g>\n",
       "<!-- 5 -->\n",
       "<g id=\"node6\" class=\"node\">\n",
       "<title>5</title>\n",
       "<path fill=\"#39e5c5\" stroke=\"#000000\" d=\"M267,-68C267,-68 114,-68 114,-68 108,-68 102,-62 102,-56 102,-56 102,-12 102,-12 102,-6 108,0 114,0 114,0 267,0 267,0 273,0 279,-6 279,-12 279,-12 279,-56 279,-56 279,-62 273,-68 267,-68\"/>\n",
       "<text text-anchor=\"start\" x=\"140.5\" y=\"-52.8\" font-family=\"Helvetica,sans-Serif\" font-size=\"14.00\" fill=\"#000000\">entropy = 0.0</text>\n",
       "<text text-anchor=\"start\" x=\"140.5\" y=\"-37.8\" font-family=\"Helvetica,sans-Serif\" font-size=\"14.00\" fill=\"#000000\">samples = 11</text>\n",
       "<text text-anchor=\"start\" x=\"110\" y=\"-22.8\" font-family=\"Helvetica,sans-Serif\" font-size=\"14.00\" fill=\"#000000\">value = [0, 0, 11, 0, 0]</text>\n",
       "<text text-anchor=\"start\" x=\"140.5\" y=\"-7.8\" font-family=\"Helvetica,sans-Serif\" font-size=\"14.00\" fill=\"#000000\">class = drugC</text>\n",
       "</g>\n",
       "<!-- 4&#45;&gt;5 -->\n",
       "<g id=\"edge5\" class=\"edge\">\n",
       "<title>4&#45;&gt;5</title>\n",
       "<path fill=\"none\" stroke=\"#000000\" d=\"M251.3808,-103.9815C243.3853,-94.7908 234.9087,-85.0472 226.9021,-75.8436\"/>\n",
       "<polygon fill=\"#000000\" stroke=\"#000000\" points=\"229.512,-73.5111 220.3079,-68.2637 224.2307,-78.1055 229.512,-73.5111\"/>\n",
       "</g>\n",
       "<!-- 6 -->\n",
       "<g id=\"node7\" class=\"node\">\n",
       "<title>6</title>\n",
       "<path fill=\"#3c39e5\" stroke=\"#000000\" d=\"M462,-68C462,-68 309,-68 309,-68 303,-68 297,-62 297,-56 297,-56 297,-12 297,-12 297,-6 303,0 309,0 309,0 462,0 462,0 468,0 474,-6 474,-12 474,-12 474,-56 474,-56 474,-62 468,-68 462,-68\"/>\n",
       "<text text-anchor=\"start\" x=\"335.5\" y=\"-52.8\" font-family=\"Helvetica,sans-Serif\" font-size=\"14.00\" fill=\"#000000\">entropy = 0.0</text>\n",
       "<text text-anchor=\"start\" x=\"335.5\" y=\"-37.8\" font-family=\"Helvetica,sans-Serif\" font-size=\"14.00\" fill=\"#000000\">samples = 10</text>\n",
       "<text text-anchor=\"start\" x=\"305\" y=\"-22.8\" font-family=\"Helvetica,sans-Serif\" font-size=\"14.00\" fill=\"#000000\">value = [0, 0, 0, 10, 0]</text>\n",
       "<text text-anchor=\"start\" x=\"335.5\" y=\"-7.8\" font-family=\"Helvetica,sans-Serif\" font-size=\"14.00\" fill=\"#000000\">class = drugX</text>\n",
       "</g>\n",
       "<!-- 4&#45;&gt;6 -->\n",
       "<g id=\"edge6\" class=\"edge\">\n",
       "<title>4&#45;&gt;6</title>\n",
       "<path fill=\"none\" stroke=\"#000000\" d=\"M323.9916,-103.9815C332.0695,-94.7908 340.6334,-85.0472 348.7226,-75.8436\"/>\n",
       "<polygon fill=\"#000000\" stroke=\"#000000\" points=\"351.412,-78.0855 355.3848,-68.2637 346.1542,-73.4642 351.412,-78.0855\"/>\n",
       "</g>\n",
       "<!-- 8 -->\n",
       "<g id=\"node9\" class=\"node\">\n",
       "<title>8</title>\n",
       "<path fill=\"#e58139\" stroke=\"#000000\" d=\"M565,-179.5C565,-179.5 412,-179.5 412,-179.5 406,-179.5 400,-173.5 400,-167.5 400,-167.5 400,-123.5 400,-123.5 400,-117.5 406,-111.5 412,-111.5 412,-111.5 565,-111.5 565,-111.5 571,-111.5 577,-117.5 577,-123.5 577,-123.5 577,-167.5 577,-167.5 577,-173.5 571,-179.5 565,-179.5\"/>\n",
       "<text text-anchor=\"start\" x=\"438.5\" y=\"-164.3\" font-family=\"Helvetica,sans-Serif\" font-size=\"14.00\" fill=\"#000000\">entropy = 0.0</text>\n",
       "<text text-anchor=\"start\" x=\"438.5\" y=\"-149.3\" font-family=\"Helvetica,sans-Serif\" font-size=\"14.00\" fill=\"#000000\">samples = 16</text>\n",
       "<text text-anchor=\"start\" x=\"408\" y=\"-134.3\" font-family=\"Helvetica,sans-Serif\" font-size=\"14.00\" fill=\"#000000\">value = [16, 0, 0, 0, 0]</text>\n",
       "<text text-anchor=\"start\" x=\"438.5\" y=\"-119.3\" font-family=\"Helvetica,sans-Serif\" font-size=\"14.00\" fill=\"#000000\">class = drugA</text>\n",
       "</g>\n",
       "<!-- 7&#45;&gt;8 -->\n",
       "<g id=\"edge8\" class=\"edge\">\n",
       "<title>7&#45;&gt;8</title>\n",
       "<path fill=\"none\" stroke=\"#000000\" d=\"M489.1502,-222.8796C489.0606,-212.2134 488.9639,-200.7021 488.8731,-189.9015\"/>\n",
       "<polygon fill=\"#000000\" stroke=\"#000000\" points=\"492.3724,-189.7851 488.7884,-179.8149 485.3726,-189.844 492.3724,-189.7851\"/>\n",
       "</g>\n",
       "<!-- 9 -->\n",
       "<g id=\"node10\" class=\"node\">\n",
       "<title>9</title>\n",
       "<path fill=\"#7be539\" stroke=\"#000000\" d=\"M760,-179.5C760,-179.5 607,-179.5 607,-179.5 601,-179.5 595,-173.5 595,-167.5 595,-167.5 595,-123.5 595,-123.5 595,-117.5 601,-111.5 607,-111.5 607,-111.5 760,-111.5 760,-111.5 766,-111.5 772,-117.5 772,-123.5 772,-123.5 772,-167.5 772,-167.5 772,-173.5 766,-179.5 760,-179.5\"/>\n",
       "<text text-anchor=\"start\" x=\"633.5\" y=\"-164.3\" font-family=\"Helvetica,sans-Serif\" font-size=\"14.00\" fill=\"#000000\">entropy = 0.0</text>\n",
       "<text text-anchor=\"start\" x=\"633.5\" y=\"-149.3\" font-family=\"Helvetica,sans-Serif\" font-size=\"14.00\" fill=\"#000000\">samples = 11</text>\n",
       "<text text-anchor=\"start\" x=\"603\" y=\"-134.3\" font-family=\"Helvetica,sans-Serif\" font-size=\"14.00\" fill=\"#000000\">value = [0, 11, 0, 0, 0]</text>\n",
       "<text text-anchor=\"start\" x=\"633.5\" y=\"-119.3\" font-family=\"Helvetica,sans-Serif\" font-size=\"14.00\" fill=\"#000000\">class = drugB</text>\n",
       "</g>\n",
       "<!-- 7&#45;&gt;9 -->\n",
       "<g id=\"edge9\" class=\"edge\">\n",
       "<title>7&#45;&gt;9</title>\n",
       "<path fill=\"none\" stroke=\"#000000\" d=\"M557.3518,-222.8796C577.4349,-210.5606 599.3557,-197.1143 619.2067,-184.9376\"/>\n",
       "<polygon fill=\"#000000\" stroke=\"#000000\" points=\"621.1768,-187.8352 627.8709,-179.623 617.5167,-181.8683 621.1768,-187.8352\"/>\n",
       "</g>\n",
       "</g>\n",
       "</svg>\n"
      ],
      "text/plain": [
       "<graphviz.files.Source at 0x7f18d58accc0>"
      ]
     },
     "execution_count": 14,
     "metadata": {},
     "output_type": "execute_result"
    }
   ],
   "source": [
    "import pydotplus\n",
    "import graphviz\n",
    "from sklearn import tree\n",
    "\n",
    "dot_data = tree.export_graphviz(drug_pres, # this is the decision tree\n",
    "                                out_file=None, \n",
    "                                feature_names=med_study.columns[0:5], # those are the name of features \n",
    "                                class_names= np.unique(Y),  # those are the drug names\n",
    "                                filled=True,\n",
    "                                rounded=True,  \n",
    "                                special_characters=True)  \n",
    "graph = graphviz.Source(dot_data)\n",
    "graph"
   ]
  },
  {
   "cell_type": "markdown",
   "metadata": {},
   "source": [
    "### 2.5 Reading the Decision Tree Graph\n",
    "\n",
    "The first line in each node represents a condition of a feature from the feature set. If the condition is _true_, the tree unfolds _left_ into a new branch or leave. If the condition is _false_, the tree unfolds _right_ into new branch or leave. The second line in each node (and the first line in each leave) is entropy. Recall that the goal of the decision tree is to find the combination of features that lead to pure leaves. If a combination of features leads to entropy = 0, the leave is pure and there is only one possible outcome of all given classes. But if entropy is > 0, then the branch will be split again. The decision tree will split until it reaches its pre-specified maximum depth, or without out one, until all leaves are pure.\n",
    "\n",
    "For the graph above, if a patient has a sodium-to-potassium level > 14.615, then the decision categorically recommends DrugY, without needing to consider other features of the patient. If a patients sodium-to-potassium level is ≤ 14.615, then the decision tree considers whether the patient's blood pressure value is at low or normal i.e. ≤ 1.5 (this refer to encoded categorical features). Thus, the decision tree graph reveals what combination of features 'predict' what type of drug a patient should be prescribed for their illness. Although this study is not representative, such decision tree graph could help medical professionals to determine the right type of drug for a patient based on their features."
   ]
  }
 ],
 "metadata": {
  "kernelspec": {
   "display_name": "Python",
   "language": "python",
   "name": "conda-env-python-py"
  },
  "language_info": {
   "codemirror_mode": {
    "name": "ipython",
    "version": 3
   },
   "file_extension": ".py",
   "mimetype": "text/x-python",
   "name": "python",
   "nbconvert_exporter": "python",
   "pygments_lexer": "ipython3",
   "version": "3.6.11"
  }
 },
 "nbformat": 4,
 "nbformat_minor": 4
}
