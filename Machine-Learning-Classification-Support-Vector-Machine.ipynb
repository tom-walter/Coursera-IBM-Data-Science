{
 "cells": [
  {
   "cell_type": "markdown",
   "metadata": {},
   "source": [
    "# Support Vector Machines from Start to Finish\n",
    "\n",
    "In machine learning, __Support Vector Machines__ (SVMs, also support-vector networks) are supervised learning models to analyze data for classification and regression analysis. Support Vector Machines are one of the best machine learning methods when getting the correct answer is a higher priority than understanding why you get the correct answer. They work really well with relatively small datasets and they tend to work well \"out of the box\". In other words, they do require much optimization. \n",
    "\n",
    "This notebook will use Scikit-Learn to build [Support Vector Machine Classifier](https://scikit-learn.org/stable/modules/generated/sklearn.svm.SVC.html#sklearn.svm.SVC), which uses continuous and categorical data from the [UCI Machine Learning Repository](https://archive.ics.uci.edu/ml/datasets/default+of+credit+card+clients) to predict whether or not a client will default on their credit card. \n",
    "\n",
    "__Table of Contents__\n",
    "1. Import Modules\n",
    "2. Import Data\n",
    "3. Missing Data\n",
    "4. Downsampling Data\n",
    "5. Format Data for SVM\n",
    "6. Building a Preliminary SVM\n",
    "7. Optimizing Hyper-Parameters\n",
    "8. Build, Evaluate, Draw, and Interpet the Final SVM\n",
    "\n",
    "## 1. Import Modules\n",
    "Load the necessary tools for data manipulation, data visualization, and machine learning."
   ]
  },
  {
   "cell_type": "code",
   "execution_count": 1,
   "metadata": {},
   "outputs": [
    {
     "name": "stdout",
     "output_type": "stream",
     "text": [
      "Requirement already up-to-date: scikit-learn in /home/jupyterlab/conda/envs/python/lib/python3.6/site-packages (0.24.0)\n",
      "Requirement already satisfied, skipping upgrade: threadpoolctl>=2.0.0 in /home/jupyterlab/conda/envs/python/lib/python3.6/site-packages (from scikit-learn) (2.1.0)\n",
      "Requirement already satisfied, skipping upgrade: scipy>=0.19.1 in /home/jupyterlab/conda/envs/python/lib/python3.6/site-packages (from scikit-learn) (1.5.4)\n",
      "Requirement already satisfied, skipping upgrade: numpy>=1.13.3 in /home/jupyterlab/conda/envs/python/lib/python3.6/site-packages (from scikit-learn) (1.19.4)\n",
      "Requirement already satisfied, skipping upgrade: joblib>=0.11 in /home/jupyterlab/conda/envs/python/lib/python3.6/site-packages (from scikit-learn) (1.0.0)\n",
      "Note: you may need to restart the kernel to use updated packages.\n"
     ]
    }
   ],
   "source": [
    "pip install --upgrade scikit-learn"
   ]
  },
  {
   "cell_type": "code",
   "execution_count": 2,
   "metadata": {},
   "outputs": [],
   "source": [
    "import pandas as pd # to load and manipulate data and for one-hot encoding\n",
    "import numpy as np # to convert data into vectors, compute with them\n",
    "import matplotlib.pyplot as plt # to draw graphs\n",
    "import matplotlib.colors as colors\n",
    "import sklearn # the machine learning module \n",
    "from sklearn.utils import resample # to downsample the dataset\n",
    "from sklearn.model_selection import train_test_split # to split data into training and testing sets\n",
    "from sklearn.model_selection import GridSearchCV # for parameter optimization\n",
    "from sklearn.preprocessing import scale # to scale and center the data\n",
    "from sklearn.svm import SVC # the support vector machine classifier\n",
    "from sklearn.metrics import confusion_matrix # to create confusion matrix\n",
    "from sklearn.metrics import plot_confusion_matrix # to draw confusion matrix\n",
    "from sklearn.decomposition import PCA # to perform PCA to plot data"
   ]
  },
  {
   "cell_type": "code",
   "execution_count": 3,
   "metadata": {},
   "outputs": [
    {
     "name": "stdout",
     "output_type": "stream",
     "text": [
      "0.24.0\n"
     ]
    }
   ],
   "source": [
    "print(sklearn.__version__)"
   ]
  },
  {
   "cell_type": "markdown",
   "metadata": {},
   "source": [
    "## 2. Import Data\n",
    "This notebook is going to use the __Credit Card Default__ dataset from the UCI Machine Learning Repository. This dataset will allow us to predict if someone will default on their credit card payments based on their demographic data and other metrics.\n",
    "\n",
    "Load the dataset into a __Pandas dataframe__:"
   ]
  },
  {
   "cell_type": "code",
   "execution_count": 4,
   "metadata": {},
   "outputs": [
    {
     "data": {
      "text/html": [
       "<div>\n",
       "<style scoped>\n",
       "    .dataframe tbody tr th:only-of-type {\n",
       "        vertical-align: middle;\n",
       "    }\n",
       "\n",
       "    .dataframe tbody tr th {\n",
       "        vertical-align: top;\n",
       "    }\n",
       "\n",
       "    .dataframe thead th {\n",
       "        text-align: right;\n",
       "    }\n",
       "</style>\n",
       "<table border=\"1\" class=\"dataframe\">\n",
       "  <thead>\n",
       "    <tr style=\"text-align: right;\">\n",
       "      <th></th>\n",
       "      <th>ID</th>\n",
       "      <th>LIMIT_BAL</th>\n",
       "      <th>SEX</th>\n",
       "      <th>EDUCATION</th>\n",
       "      <th>MARRIAGE</th>\n",
       "      <th>AGE</th>\n",
       "      <th>PAY_0</th>\n",
       "      <th>PAY_2</th>\n",
       "      <th>PAY_3</th>\n",
       "      <th>PAY_4</th>\n",
       "      <th>...</th>\n",
       "      <th>BILL_AMT4</th>\n",
       "      <th>BILL_AMT5</th>\n",
       "      <th>BILL_AMT6</th>\n",
       "      <th>PAY_AMT1</th>\n",
       "      <th>PAY_AMT2</th>\n",
       "      <th>PAY_AMT3</th>\n",
       "      <th>PAY_AMT4</th>\n",
       "      <th>PAY_AMT5</th>\n",
       "      <th>PAY_AMT6</th>\n",
       "      <th>default payment next month</th>\n",
       "    </tr>\n",
       "  </thead>\n",
       "  <tbody>\n",
       "    <tr>\n",
       "      <th>0</th>\n",
       "      <td>1</td>\n",
       "      <td>20000</td>\n",
       "      <td>2</td>\n",
       "      <td>2</td>\n",
       "      <td>1</td>\n",
       "      <td>24</td>\n",
       "      <td>2</td>\n",
       "      <td>2</td>\n",
       "      <td>-1</td>\n",
       "      <td>-1</td>\n",
       "      <td>...</td>\n",
       "      <td>0</td>\n",
       "      <td>0</td>\n",
       "      <td>0</td>\n",
       "      <td>0</td>\n",
       "      <td>689</td>\n",
       "      <td>0</td>\n",
       "      <td>0</td>\n",
       "      <td>0</td>\n",
       "      <td>0</td>\n",
       "      <td>1</td>\n",
       "    </tr>\n",
       "    <tr>\n",
       "      <th>1</th>\n",
       "      <td>2</td>\n",
       "      <td>120000</td>\n",
       "      <td>2</td>\n",
       "      <td>2</td>\n",
       "      <td>2</td>\n",
       "      <td>26</td>\n",
       "      <td>-1</td>\n",
       "      <td>2</td>\n",
       "      <td>0</td>\n",
       "      <td>0</td>\n",
       "      <td>...</td>\n",
       "      <td>3272</td>\n",
       "      <td>3455</td>\n",
       "      <td>3261</td>\n",
       "      <td>0</td>\n",
       "      <td>1000</td>\n",
       "      <td>1000</td>\n",
       "      <td>1000</td>\n",
       "      <td>0</td>\n",
       "      <td>2000</td>\n",
       "      <td>1</td>\n",
       "    </tr>\n",
       "    <tr>\n",
       "      <th>2</th>\n",
       "      <td>3</td>\n",
       "      <td>90000</td>\n",
       "      <td>2</td>\n",
       "      <td>2</td>\n",
       "      <td>2</td>\n",
       "      <td>34</td>\n",
       "      <td>0</td>\n",
       "      <td>0</td>\n",
       "      <td>0</td>\n",
       "      <td>0</td>\n",
       "      <td>...</td>\n",
       "      <td>14331</td>\n",
       "      <td>14948</td>\n",
       "      <td>15549</td>\n",
       "      <td>1518</td>\n",
       "      <td>1500</td>\n",
       "      <td>1000</td>\n",
       "      <td>1000</td>\n",
       "      <td>1000</td>\n",
       "      <td>5000</td>\n",
       "      <td>0</td>\n",
       "    </tr>\n",
       "    <tr>\n",
       "      <th>3</th>\n",
       "      <td>4</td>\n",
       "      <td>50000</td>\n",
       "      <td>2</td>\n",
       "      <td>2</td>\n",
       "      <td>1</td>\n",
       "      <td>37</td>\n",
       "      <td>0</td>\n",
       "      <td>0</td>\n",
       "      <td>0</td>\n",
       "      <td>0</td>\n",
       "      <td>...</td>\n",
       "      <td>28314</td>\n",
       "      <td>28959</td>\n",
       "      <td>29547</td>\n",
       "      <td>2000</td>\n",
       "      <td>2019</td>\n",
       "      <td>1200</td>\n",
       "      <td>1100</td>\n",
       "      <td>1069</td>\n",
       "      <td>1000</td>\n",
       "      <td>0</td>\n",
       "    </tr>\n",
       "    <tr>\n",
       "      <th>4</th>\n",
       "      <td>5</td>\n",
       "      <td>50000</td>\n",
       "      <td>1</td>\n",
       "      <td>2</td>\n",
       "      <td>1</td>\n",
       "      <td>57</td>\n",
       "      <td>-1</td>\n",
       "      <td>0</td>\n",
       "      <td>-1</td>\n",
       "      <td>0</td>\n",
       "      <td>...</td>\n",
       "      <td>20940</td>\n",
       "      <td>19146</td>\n",
       "      <td>19131</td>\n",
       "      <td>2000</td>\n",
       "      <td>36681</td>\n",
       "      <td>10000</td>\n",
       "      <td>9000</td>\n",
       "      <td>689</td>\n",
       "      <td>679</td>\n",
       "      <td>0</td>\n",
       "    </tr>\n",
       "  </tbody>\n",
       "</table>\n",
       "<p>5 rows × 25 columns</p>\n",
       "</div>"
      ],
      "text/plain": [
       "   ID  LIMIT_BAL  SEX  EDUCATION  MARRIAGE  AGE  PAY_0  PAY_2  PAY_3  PAY_4  \\\n",
       "0   1      20000    2          2         1   24      2      2     -1     -1   \n",
       "1   2     120000    2          2         2   26     -1      2      0      0   \n",
       "2   3      90000    2          2         2   34      0      0      0      0   \n",
       "3   4      50000    2          2         1   37      0      0      0      0   \n",
       "4   5      50000    1          2         1   57     -1      0     -1      0   \n",
       "\n",
       "   ...  BILL_AMT4  BILL_AMT5  BILL_AMT6  PAY_AMT1  PAY_AMT2  PAY_AMT3  \\\n",
       "0  ...          0          0          0         0       689         0   \n",
       "1  ...       3272       3455       3261         0      1000      1000   \n",
       "2  ...      14331      14948      15549      1518      1500      1000   \n",
       "3  ...      28314      28959      29547      2000      2019      1200   \n",
       "4  ...      20940      19146      19131      2000     36681     10000   \n",
       "\n",
       "   PAY_AMT4  PAY_AMT5  PAY_AMT6  default payment next month  \n",
       "0         0         0         0                           1  \n",
       "1      1000         0      2000                           1  \n",
       "2      1000      1000      5000                           0  \n",
       "3      1100      1069      1000                           0  \n",
       "4      9000       689       679                           0  \n",
       "\n",
       "[5 rows x 25 columns]"
      ]
     },
     "execution_count": 4,
     "metadata": {},
     "output_type": "execute_result"
    }
   ],
   "source": [
    "df= pd.read_excel('default_of_credit_card_clients.xls', header=1)\n",
    "df.head()"
   ]
  },
  {
   "cell_type": "markdown",
   "metadata": {},
   "source": [
    "The dataset contains the following columns:\n",
    "\n",
    "|Feature Name|Description|\n",
    "|-----------:|-----------|\n",
    "|__ID__|ID number assigned to each customer|\n",
    "|__LIMIT_BAL__|credit card limit in US\\$|\n",
    "|__SEX__|gender (1= male; 2= female)|\n",
    "|__EDUCATION__|level of education (1= graduate school; 2= university; 3= high school; 4= others)|\n",
    "|__MARRIAGE__|marital status (1= married; 2= single; 3= others)|\n",
    "|__AGE__|age in years|\n",
    "|__PAY__|history of past payment; $n$ trackes the  6 months of payment record (from April to September, 2005); measurement scale for the repayment status is: -1= pay duly, 1= payment delay for one month, 2= payment delay for two months, etc. |\n",
    "|__BILL_AMT__|amount of the bill in US\\$|\n",
    "|__PAY_AMT__|amount paid in US\\$|\n",
    "|__default payment next month__|whether or not client has defaulted(Yes= 1, No= 0)|\n",
    "\n",
    "\n",
    "Note that the last column name, __default payment next month__ is too long. Let's change it to __DEFAULT__."
   ]
  },
  {
   "cell_type": "code",
   "execution_count": 5,
   "metadata": {},
   "outputs": [
    {
     "data": {
      "text/plain": [
       "Index(['ID', 'LIMIT_BAL', 'SEX', 'EDUCATION', 'MARRIAGE', 'AGE', 'PAY_0',\n",
       "       'PAY_2', 'PAY_3', 'PAY_4', 'PAY_5', 'PAY_6', 'BILL_AMT1', 'BILL_AMT2',\n",
       "       'BILL_AMT3', 'BILL_AMT4', 'BILL_AMT5', 'BILL_AMT6', 'PAY_AMT1',\n",
       "       'PAY_AMT2', 'PAY_AMT3', 'PAY_AMT4', 'PAY_AMT5', 'PAY_AMT6', 'DEFAULT'],\n",
       "      dtype='object')"
      ]
     },
     "execution_count": 5,
     "metadata": {},
     "output_type": "execute_result"
    }
   ],
   "source": [
    "df.rename({'default payment next month':'DEFAULT'}, axis='columns', inplace=True)\n",
    "df.columns"
   ]
  },
  {
   "cell_type": "markdown",
   "metadata": {},
   "source": [
    "Also the values in the __ID__ column are randomly assigned, making it uninformative, so we can drop it. "
   ]
  },
  {
   "cell_type": "code",
   "execution_count": 6,
   "metadata": {},
   "outputs": [
    {
     "data": {
      "text/plain": [
       "Index(['LIMIT_BAL', 'SEX', 'EDUCATION', 'MARRIAGE', 'AGE', 'PAY_0', 'PAY_2',\n",
       "       'PAY_3', 'PAY_4', 'PAY_5', 'PAY_6', 'BILL_AMT1', 'BILL_AMT2',\n",
       "       'BILL_AMT3', 'BILL_AMT4', 'BILL_AMT5', 'BILL_AMT6', 'PAY_AMT1',\n",
       "       'PAY_AMT2', 'PAY_AMT3', 'PAY_AMT4', 'PAY_AMT5', 'PAY_AMT6', 'DEFAULT'],\n",
       "      dtype='object')"
      ]
     },
     "execution_count": 6,
     "metadata": {},
     "output_type": "execute_result"
    }
   ],
   "source": [
    "df.drop('ID',axis=1,inplace=True)\n",
    "df.columns"
   ]
  },
  {
   "cell_type": "markdown",
   "metadata": {},
   "source": [
    "## 3. Missing Data\n",
    "### 3.1 Identification\n",
    "\n",
    "The first step of the Data Preprocessing is to identify and dealing with missing data. Missing data is simply a blank space, or a surrogate value like __N/A__ that indicates that some entry is missing from the one of the features.\n",
    "\n",
    "There are two main ways of dealing with missing data:\n",
    "\n",
    "1. We can remove the rows that contain missing data from the dataset. This is relatively easy to do, but is wastes all of the other values that were collected.\n",
    "2. We can impute the values that are missing, for instance, with a mean, median, or mode depending on the data type.\n",
    "\n",
    "Together with identifying the missing data, one must also check if all columns have the correct data type."
   ]
  },
  {
   "cell_type": "code",
   "execution_count": 7,
   "metadata": {},
   "outputs": [
    {
     "data": {
      "text/plain": [
       "LIMIT_BAL    int64\n",
       "SEX          int64\n",
       "EDUCATION    int64\n",
       "MARRIAGE     int64\n",
       "AGE          int64\n",
       "PAY_0        int64\n",
       "PAY_2        int64\n",
       "PAY_3        int64\n",
       "PAY_4        int64\n",
       "PAY_5        int64\n",
       "PAY_6        int64\n",
       "BILL_AMT1    int64\n",
       "BILL_AMT2    int64\n",
       "BILL_AMT3    int64\n",
       "BILL_AMT4    int64\n",
       "BILL_AMT5    int64\n",
       "BILL_AMT6    int64\n",
       "PAY_AMT1     int64\n",
       "PAY_AMT2     int64\n",
       "PAY_AMT3     int64\n",
       "PAY_AMT4     int64\n",
       "PAY_AMT5     int64\n",
       "PAY_AMT6     int64\n",
       "DEFAULT      int64\n",
       "dtype: object"
      ]
     },
     "execution_count": 7,
     "metadata": {},
     "output_type": "execute_result"
    }
   ],
   "source": [
    "df.dtypes"
   ]
  },
  {
   "cell_type": "markdown",
   "metadata": {},
   "source": [
    "All columns are type `int64`, which means there aren't any letters or placeholders mixed in with numbers. Nontheless, we must still check if each column contains acceptable values. The table below describes what values are allowed in each column and is based on the colum description from the [Credit Card Default](https://archive.ics.uci.edu/ml/datasets/default+of+credit+card+clients) webpage.\n",
    "\n",
    "|Feature Name|Description|Variable Data Type|\n",
    "|-----:|-----|-----|\n",
    "|__LIMIT_BAL__|credit card limit in USD|_integer_|\n",
    "|__SEX__|gender (1= male; 2= female)|_category_|\n",
    "|__EDUCATION__|level of education (1= graduate school; 2= university; 3= high school; 4= others)|_category_|\n",
    "|__MARRIAGE__|marital status (1= married; 2= single; 3= others)|_category_|\n",
    "|__AGE__|age in years|_integer_|\n",
    "|__PAY__|history of past payment; $n$ trackes the  6 months of payment record (from April to September, 2005); measurement scale for the repayment status is: -1= pay duly, 1= payment delay for one month, 2= payment delay for two months, etc. |_category_|\n",
    "|__BILL_AMT__|amount of the bill in USD|_integer_|\n",
    "|__PAY_AMT__|amount paid in USD|_integer_|\n",
    "|__DEFAULT__|whether or not client has defaulted(Yes= 1, No= 0)|_integer_|\n",
    "\n",
    "Let's start by checking the values of the columns and if necessary convert them; starting with __SEX__."
   ]
  },
  {
   "cell_type": "code",
   "execution_count": 8,
   "metadata": {},
   "outputs": [
    {
     "data": {
      "text/plain": [
       "array([2, 1])"
      ]
     },
     "execution_count": 8,
     "metadata": {},
     "output_type": "execute_result"
    }
   ],
   "source": [
    "df['SEX'].unique()"
   ]
  },
  {
   "cell_type": "markdown",
   "metadata": {},
   "source": [
    "Next, __EDUCATION__."
   ]
  },
  {
   "cell_type": "code",
   "execution_count": 9,
   "metadata": {},
   "outputs": [
    {
     "data": {
      "text/plain": [
       "array([2, 1, 3, 5, 4, 6, 0])"
      ]
     },
     "execution_count": 9,
     "metadata": {},
     "output_type": "execute_result"
    }
   ],
   "source": [
    "df['EDUCATION'].unique()"
   ]
  },
  {
   "cell_type": "markdown",
   "metadata": {},
   "source": [
    "For some unspecified reason, __EDUCATION__ also contains 0,5,6 in addition to the allowed numbers 1,2,3,4. It is possible that 0 represents missing data and 5 & 6 represent categories not mentioned in the specification, but that is just a guess.\n",
    "\n",
    "Now, let's look at __MARRIAGE__ and make sure it only contains 1,2,3."
   ]
  },
  {
   "cell_type": "code",
   "execution_count": 10,
   "metadata": {},
   "outputs": [
    {
     "data": {
      "text/plain": [
       "array([1, 2, 3, 0])"
      ]
     },
     "execution_count": 10,
     "metadata": {},
     "output_type": "execute_result"
    }
   ],
   "source": [
    "df['MARRIAGE'].unique()"
   ]
  },
  {
   "cell_type": "markdown",
   "metadata": {},
   "source": [
    "Like __EDUCATION__; __MARRIAGE__ contains 0, perhaps more missing data.\n",
    "\n",
    "### 3.2 Dealing with Missing Data\n",
    "\n",
    "Since Sklearn's SVM do not support datasets with missing values, we need to figure out what to do with the 0s in the dataset. We can either delete these customers from the training dataset, or impute values for the missing data. \n",
    "\n",
    "First, let's count the how many rows contain missing data."
   ]
  },
  {
   "cell_type": "code",
   "execution_count": 11,
   "metadata": {},
   "outputs": [
    {
     "data": {
      "text/plain": [
       "68"
      ]
     },
     "execution_count": 11,
     "metadata": {},
     "output_type": "execute_result"
    }
   ],
   "source": [
    "len(df.loc[(df['EDUCATION']==0) | (df['MARRIAGE']==0)])"
   ]
  },
  {
   "cell_type": "code",
   "execution_count": 12,
   "metadata": {},
   "outputs": [
    {
     "data": {
      "text/plain": [
       "30000"
      ]
     },
     "execution_count": 12,
     "metadata": {},
     "output_type": "execute_result"
    }
   ],
   "source": [
    "len(df)"
   ]
  },
  {
   "cell_type": "markdown",
   "metadata": {},
   "source": [
    "So __68__ out of __30,000__ rows, or less than 1%, contain missing values. Since that still leaves more than enough data for the SVM, we will remove the rows with missing values rather than imputing them."
   ]
  },
  {
   "cell_type": "code",
   "execution_count": 13,
   "metadata": {},
   "outputs": [
    {
     "data": {
      "text/plain": [
       "29932"
      ]
     },
     "execution_count": 13,
     "metadata": {},
     "output_type": "execute_result"
    }
   ],
   "source": [
    "df_no_missing= df.loc[(df['EDUCATION'] != 0) & (df['MARRIAGE'] != 0)]\n",
    "len(df_no_missing)"
   ]
  },
  {
   "cell_type": "code",
   "execution_count": 14,
   "metadata": {},
   "outputs": [
    {
     "data": {
      "text/plain": [
       "array([2, 1, 3, 5, 4, 6])"
      ]
     },
     "execution_count": 14,
     "metadata": {},
     "output_type": "execute_result"
    }
   ],
   "source": [
    "df_no_missing['EDUCATION'].unique()"
   ]
  },
  {
   "cell_type": "code",
   "execution_count": 15,
   "metadata": {},
   "outputs": [
    {
     "data": {
      "text/plain": [
       "array([1, 2, 3])"
      ]
     },
     "execution_count": 15,
     "metadata": {},
     "output_type": "execute_result"
    }
   ],
   "source": [
    "df_no_missing['MARRIAGE'].unique()"
   ]
  },
  {
   "cell_type": "markdown",
   "metadata": {},
   "source": [
    "## 4. Downsampling Data\n",
    "\n",
    "SVM are great with small datasets, but awesome with large ones, and this dataset while not huge, is big enough to take some time to optimize with Cross Validation. We will downsample both categories, customers who did and did not default, to __1,000__ each."
   ]
  },
  {
   "cell_type": "code",
   "execution_count": 16,
   "metadata": {},
   "outputs": [],
   "source": [
    "df_no_default= df_no_missing[df_no_missing['DEFAULT']==0]\n",
    "df_default= df_no_missing[df_no_missing['DEFAULT']==1]"
   ]
  },
  {
   "cell_type": "markdown",
   "metadata": {},
   "source": [
    "Now let's downsample each category:"
   ]
  },
  {
   "cell_type": "code",
   "execution_count": 17,
   "metadata": {},
   "outputs": [
    {
     "data": {
      "text/plain": [
       "1000"
      ]
     },
     "execution_count": 17,
     "metadata": {},
     "output_type": "execute_result"
    }
   ],
   "source": [
    "df_no_default_downsampled= resample(df_no_default,\n",
    "                                   replace=False,\n",
    "                                   n_samples=1000,\n",
    "                                   random_state=42)\n",
    "len(df_no_default_downsampled)"
   ]
  },
  {
   "cell_type": "code",
   "execution_count": 18,
   "metadata": {},
   "outputs": [
    {
     "data": {
      "text/plain": [
       "1000"
      ]
     },
     "execution_count": 18,
     "metadata": {},
     "output_type": "execute_result"
    }
   ],
   "source": [
    "df_default_downsampled= resample(df_default,\n",
    "                                   replace=False,\n",
    "                                   n_samples=1000,\n",
    "                                   random_state=42)\n",
    "len(df_default_downsampled)"
   ]
  },
  {
   "cell_type": "markdown",
   "metadata": {},
   "source": [
    "Now let's re-merge the two downsampled datasets into a single dataframe."
   ]
  },
  {
   "cell_type": "code",
   "execution_count": 19,
   "metadata": {},
   "outputs": [
    {
     "data": {
      "text/plain": [
       "2000"
      ]
     },
     "execution_count": 19,
     "metadata": {},
     "output_type": "execute_result"
    }
   ],
   "source": [
    "df_downsampled= pd.concat([df_no_default_downsampled, df_default_downsampled])\n",
    "len(df_downsampled)"
   ]
  },
  {
   "cell_type": "markdown",
   "metadata": {},
   "source": [
    "## 5. Format Data for SVM\n",
    "### 5.1 Split the Data into Dependent and Independent Variables\n",
    "\n",
    "The dependent variable, in conventionel notation $X$ (upper case __X__), contains the columns or features used to make prediction/classification about the independent variable, in conventional notation $y$ (lower case __y__), in this case, whether or not someone default on a credit card payment.\n",
    "\n",
    "Note: The code below uses `.copy()` to copy the data by value. By default, pandas uses copy by reference. Using `.copy()` ensures that the original data is not modified when formatted into $X$ or $y$."
   ]
  },
  {
   "cell_type": "code",
   "execution_count": 20,
   "metadata": {},
   "outputs": [
    {
     "name": "stdout",
     "output_type": "stream",
     "text": [
      "(2000, 23)\n"
     ]
    },
    {
     "data": {
      "text/html": [
       "<div>\n",
       "<style scoped>\n",
       "    .dataframe tbody tr th:only-of-type {\n",
       "        vertical-align: middle;\n",
       "    }\n",
       "\n",
       "    .dataframe tbody tr th {\n",
       "        vertical-align: top;\n",
       "    }\n",
       "\n",
       "    .dataframe thead th {\n",
       "        text-align: right;\n",
       "    }\n",
       "</style>\n",
       "<table border=\"1\" class=\"dataframe\">\n",
       "  <thead>\n",
       "    <tr style=\"text-align: right;\">\n",
       "      <th></th>\n",
       "      <th>LIMIT_BAL</th>\n",
       "      <th>SEX</th>\n",
       "      <th>EDUCATION</th>\n",
       "      <th>MARRIAGE</th>\n",
       "      <th>AGE</th>\n",
       "      <th>PAY_0</th>\n",
       "      <th>PAY_2</th>\n",
       "      <th>PAY_3</th>\n",
       "      <th>PAY_4</th>\n",
       "      <th>PAY_5</th>\n",
       "      <th>...</th>\n",
       "      <th>BILL_AMT3</th>\n",
       "      <th>BILL_AMT4</th>\n",
       "      <th>BILL_AMT5</th>\n",
       "      <th>BILL_AMT6</th>\n",
       "      <th>PAY_AMT1</th>\n",
       "      <th>PAY_AMT2</th>\n",
       "      <th>PAY_AMT3</th>\n",
       "      <th>PAY_AMT4</th>\n",
       "      <th>PAY_AMT5</th>\n",
       "      <th>PAY_AMT6</th>\n",
       "    </tr>\n",
       "  </thead>\n",
       "  <tbody>\n",
       "    <tr>\n",
       "      <th>641</th>\n",
       "      <td>130000</td>\n",
       "      <td>2</td>\n",
       "      <td>3</td>\n",
       "      <td>1</td>\n",
       "      <td>28</td>\n",
       "      <td>0</td>\n",
       "      <td>0</td>\n",
       "      <td>0</td>\n",
       "      <td>0</td>\n",
       "      <td>-2</td>\n",
       "      <td>...</td>\n",
       "      <td>50000</td>\n",
       "      <td>0</td>\n",
       "      <td>0</td>\n",
       "      <td>0</td>\n",
       "      <td>2500</td>\n",
       "      <td>1000</td>\n",
       "      <td>0</td>\n",
       "      <td>0</td>\n",
       "      <td>0</td>\n",
       "      <td>0</td>\n",
       "    </tr>\n",
       "    <tr>\n",
       "      <th>4678</th>\n",
       "      <td>170000</td>\n",
       "      <td>1</td>\n",
       "      <td>3</td>\n",
       "      <td>1</td>\n",
       "      <td>29</td>\n",
       "      <td>0</td>\n",
       "      <td>0</td>\n",
       "      <td>0</td>\n",
       "      <td>0</td>\n",
       "      <td>0</td>\n",
       "      <td>...</td>\n",
       "      <td>172307</td>\n",
       "      <td>35234</td>\n",
       "      <td>32869</td>\n",
       "      <td>33862</td>\n",
       "      <td>7200</td>\n",
       "      <td>7500</td>\n",
       "      <td>1200</td>\n",
       "      <td>1200</td>\n",
       "      <td>1500</td>\n",
       "      <td>1300</td>\n",
       "    </tr>\n",
       "    <tr>\n",
       "      <th>16004</th>\n",
       "      <td>180000</td>\n",
       "      <td>2</td>\n",
       "      <td>2</td>\n",
       "      <td>1</td>\n",
       "      <td>29</td>\n",
       "      <td>0</td>\n",
       "      <td>0</td>\n",
       "      <td>0</td>\n",
       "      <td>0</td>\n",
       "      <td>0</td>\n",
       "      <td>...</td>\n",
       "      <td>26310</td>\n",
       "      <td>26662</td>\n",
       "      <td>26166</td>\n",
       "      <td>26176</td>\n",
       "      <td>1800</td>\n",
       "      <td>1800</td>\n",
       "      <td>1500</td>\n",
       "      <td>1056</td>\n",
       "      <td>950</td>\n",
       "      <td>1000</td>\n",
       "    </tr>\n",
       "    <tr>\n",
       "      <th>22974</th>\n",
       "      <td>210000</td>\n",
       "      <td>2</td>\n",
       "      <td>2</td>\n",
       "      <td>2</td>\n",
       "      <td>32</td>\n",
       "      <td>-2</td>\n",
       "      <td>-2</td>\n",
       "      <td>-2</td>\n",
       "      <td>-2</td>\n",
       "      <td>-2</td>\n",
       "      <td>...</td>\n",
       "      <td>410</td>\n",
       "      <td>0</td>\n",
       "      <td>0</td>\n",
       "      <td>0</td>\n",
       "      <td>979</td>\n",
       "      <td>412</td>\n",
       "      <td>0</td>\n",
       "      <td>0</td>\n",
       "      <td>0</td>\n",
       "      <td>0</td>\n",
       "    </tr>\n",
       "    <tr>\n",
       "      <th>17535</th>\n",
       "      <td>190000</td>\n",
       "      <td>2</td>\n",
       "      <td>3</td>\n",
       "      <td>1</td>\n",
       "      <td>45</td>\n",
       "      <td>0</td>\n",
       "      <td>0</td>\n",
       "      <td>0</td>\n",
       "      <td>0</td>\n",
       "      <td>0</td>\n",
       "      <td>...</td>\n",
       "      <td>80548</td>\n",
       "      <td>81778</td>\n",
       "      <td>83082</td>\n",
       "      <td>84811</td>\n",
       "      <td>3300</td>\n",
       "      <td>3331</td>\n",
       "      <td>3359</td>\n",
       "      <td>2663</td>\n",
       "      <td>2751</td>\n",
       "      <td>3000</td>\n",
       "    </tr>\n",
       "  </tbody>\n",
       "</table>\n",
       "<p>5 rows × 23 columns</p>\n",
       "</div>"
      ],
      "text/plain": [
       "       LIMIT_BAL  SEX  EDUCATION  MARRIAGE  AGE  PAY_0  PAY_2  PAY_3  PAY_4  \\\n",
       "641       130000    2          3         1   28      0      0      0      0   \n",
       "4678      170000    1          3         1   29      0      0      0      0   \n",
       "16004     180000    2          2         1   29      0      0      0      0   \n",
       "22974     210000    2          2         2   32     -2     -2     -2     -2   \n",
       "17535     190000    2          3         1   45      0      0      0      0   \n",
       "\n",
       "       PAY_5  ...  BILL_AMT3  BILL_AMT4  BILL_AMT5  BILL_AMT6  PAY_AMT1  \\\n",
       "641       -2  ...      50000          0          0          0      2500   \n",
       "4678       0  ...     172307      35234      32869      33862      7200   \n",
       "16004      0  ...      26310      26662      26166      26176      1800   \n",
       "22974     -2  ...        410          0          0          0       979   \n",
       "17535      0  ...      80548      81778      83082      84811      3300   \n",
       "\n",
       "       PAY_AMT2  PAY_AMT3  PAY_AMT4  PAY_AMT5  PAY_AMT6  \n",
       "641        1000         0         0         0         0  \n",
       "4678       7500      1200      1200      1500      1300  \n",
       "16004      1800      1500      1056       950      1000  \n",
       "22974       412         0         0         0         0  \n",
       "17535      3331      3359      2663      2751      3000  \n",
       "\n",
       "[5 rows x 23 columns]"
      ]
     },
     "execution_count": 20,
     "metadata": {},
     "output_type": "execute_result"
    }
   ],
   "source": [
    "X= df_downsampled.drop('DEFAULT',axis=1).copy()\n",
    "print(X.shape)\n",
    "X.head()"
   ]
  },
  {
   "cell_type": "code",
   "execution_count": 21,
   "metadata": {},
   "outputs": [
    {
     "name": "stdout",
     "output_type": "stream",
     "text": [
      "(2000,)\n"
     ]
    },
    {
     "data": {
      "text/plain": [
       "641      0\n",
       "4678     0\n",
       "16004    0\n",
       "22974    0\n",
       "17535    0\n",
       "Name: DEFAULT, dtype: int64"
      ]
     },
     "execution_count": 21,
     "metadata": {},
     "output_type": "execute_result"
    }
   ],
   "source": [
    "y= df_downsampled['DEFAULT'].copy()\n",
    "print(y.shape)\n",
    "y.head()"
   ]
  },
  {
   "cell_type": "markdown",
   "metadata": {},
   "source": [
    "### 5.2 One-Hot Encoding\n",
    "The table below tells us what each variable represents and the type of data it should contain (either _integer_ or _categorical_):\n",
    "\n",
    "|Feature Name|Description|Variable Data Type|\n",
    "|-----:|-----|-----|\n",
    "|__LIMIT_BAL__|credit card limit in USD|_integer_|\n",
    "|__SEX__|gender (1= male; 2= female)|_category_|\n",
    "|__EDUCATION__|level of education (1= graduate school; 2= university; 3= high school; 4= others)|_category_|\n",
    "|__MARRIAGE__|marital status (1= married; 2= single; 3= others)|_category_|\n",
    "|__AGE__|age in years|_integer_|\n",
    "|__PAY__|history of past payment; $n$ trackes the  6 months of payment record (from April to September, 2005); measurement scale for the repayment status is: -1= pay duly, 1= payment delay for one month, 2= payment delay for two months, etc. |_category_|\n",
    "|__BILL_AMT__|amount of the bill in USD|_integer_|\n",
    "|__PAY_AMT__|amount paid in USD|_integer_|\n",
    "|__DEFAULT__|whether or not client has defaulted(Yes= 1, No= 0)|_integer_|\n",
    "\n",
    "__SEX, EDUCATION, MARRIAGE,__ and __PAY__ are supposed to be categorical and need to be modified. This is because Sklearn SVMs natively support continuous data, like __LIMIT_BAL__ and __AGE__, they do not support categorical data. Thus, in order to use categorical data with Sklearn, we have to use a convert each column of categorical data into multiple columns of binary values (aka dummy variables). This is called __One-Hot Encoding__.\n",
    "\n",
    "Let's look at the example of __MARRIAGE__ as categorical data, which contains 3 options: 1=Married; 2=Single; 3=Other. As is, the SVM would treat them as continuous data meaning that it would be more likely to cluster the people with 3s and 2s together than the people with 3s and 1s together. In contrast, if these numbers are treated as categorical data, then the SVM would treat each one as a separate category that is no more or less similar to any of the other categories. Thus, the likelihood of clustering people with 3s and 2s is the same as clustering people with 3s and 1s, and that approach is more reasonable.\n",
    "\n",
    "There are many different ways to do __One-Hot Encoding__ in Python. Two common methods are `ColumnTransformer()` from Sklearn and `get_dummies()` from Pandas. Both have merits and demerits. The `ColumnTransformer()` can create a persistent function that can validate data that you can get in the future. The downside is that `ColumnTransformer()` turns your data into an array and looses all the column names, making it harder to verify if the transformation worked as intended. By contrast, `get_dummies()` leaves your data in dataframe and retains column names, making it easier to verify if it worked as intended. However, `get_dummies()` does not have the persistent behavior that `ColumnTransformer()` has.\n",
    "\n",
    "This notebook uses Pandas' `get_dummies()` for __One-Hot Encoding__. "
   ]
  },
  {
   "cell_type": "code",
   "execution_count": 22,
   "metadata": {},
   "outputs": [
    {
     "data": {
      "text/html": [
       "<div>\n",
       "<style scoped>\n",
       "    .dataframe tbody tr th:only-of-type {\n",
       "        vertical-align: middle;\n",
       "    }\n",
       "\n",
       "    .dataframe tbody tr th {\n",
       "        vertical-align: top;\n",
       "    }\n",
       "\n",
       "    .dataframe thead th {\n",
       "        text-align: right;\n",
       "    }\n",
       "</style>\n",
       "<table border=\"1\" class=\"dataframe\">\n",
       "  <thead>\n",
       "    <tr style=\"text-align: right;\">\n",
       "      <th></th>\n",
       "      <th>LIMIT_BAL</th>\n",
       "      <th>AGE</th>\n",
       "      <th>BILL_AMT1</th>\n",
       "      <th>BILL_AMT2</th>\n",
       "      <th>BILL_AMT3</th>\n",
       "      <th>BILL_AMT4</th>\n",
       "      <th>BILL_AMT5</th>\n",
       "      <th>BILL_AMT6</th>\n",
       "      <th>PAY_AMT1</th>\n",
       "      <th>PAY_AMT2</th>\n",
       "      <th>...</th>\n",
       "      <th>PAY_5_7</th>\n",
       "      <th>PAY_6_-2</th>\n",
       "      <th>PAY_6_-1</th>\n",
       "      <th>PAY_6_0</th>\n",
       "      <th>PAY_6_2</th>\n",
       "      <th>PAY_6_3</th>\n",
       "      <th>PAY_6_4</th>\n",
       "      <th>PAY_6_5</th>\n",
       "      <th>PAY_6_6</th>\n",
       "      <th>PAY_6_7</th>\n",
       "    </tr>\n",
       "  </thead>\n",
       "  <tbody>\n",
       "    <tr>\n",
       "      <th>641</th>\n",
       "      <td>130000</td>\n",
       "      <td>28</td>\n",
       "      <td>100143</td>\n",
       "      <td>50456</td>\n",
       "      <td>50000</td>\n",
       "      <td>0</td>\n",
       "      <td>0</td>\n",
       "      <td>0</td>\n",
       "      <td>2500</td>\n",
       "      <td>1000</td>\n",
       "      <td>...</td>\n",
       "      <td>0</td>\n",
       "      <td>1</td>\n",
       "      <td>0</td>\n",
       "      <td>0</td>\n",
       "      <td>0</td>\n",
       "      <td>0</td>\n",
       "      <td>0</td>\n",
       "      <td>0</td>\n",
       "      <td>0</td>\n",
       "      <td>0</td>\n",
       "    </tr>\n",
       "    <tr>\n",
       "      <th>4678</th>\n",
       "      <td>170000</td>\n",
       "      <td>29</td>\n",
       "      <td>165027</td>\n",
       "      <td>168990</td>\n",
       "      <td>172307</td>\n",
       "      <td>35234</td>\n",
       "      <td>32869</td>\n",
       "      <td>33862</td>\n",
       "      <td>7200</td>\n",
       "      <td>7500</td>\n",
       "      <td>...</td>\n",
       "      <td>0</td>\n",
       "      <td>0</td>\n",
       "      <td>0</td>\n",
       "      <td>1</td>\n",
       "      <td>0</td>\n",
       "      <td>0</td>\n",
       "      <td>0</td>\n",
       "      <td>0</td>\n",
       "      <td>0</td>\n",
       "      <td>0</td>\n",
       "    </tr>\n",
       "    <tr>\n",
       "      <th>16004</th>\n",
       "      <td>180000</td>\n",
       "      <td>29</td>\n",
       "      <td>25781</td>\n",
       "      <td>26000</td>\n",
       "      <td>26310</td>\n",
       "      <td>26662</td>\n",
       "      <td>26166</td>\n",
       "      <td>26176</td>\n",
       "      <td>1800</td>\n",
       "      <td>1800</td>\n",
       "      <td>...</td>\n",
       "      <td>0</td>\n",
       "      <td>0</td>\n",
       "      <td>0</td>\n",
       "      <td>1</td>\n",
       "      <td>0</td>\n",
       "      <td>0</td>\n",
       "      <td>0</td>\n",
       "      <td>0</td>\n",
       "      <td>0</td>\n",
       "      <td>0</td>\n",
       "    </tr>\n",
       "    <tr>\n",
       "      <th>22974</th>\n",
       "      <td>210000</td>\n",
       "      <td>32</td>\n",
       "      <td>355</td>\n",
       "      <td>975</td>\n",
       "      <td>410</td>\n",
       "      <td>0</td>\n",
       "      <td>0</td>\n",
       "      <td>0</td>\n",
       "      <td>979</td>\n",
       "      <td>412</td>\n",
       "      <td>...</td>\n",
       "      <td>0</td>\n",
       "      <td>1</td>\n",
       "      <td>0</td>\n",
       "      <td>0</td>\n",
       "      <td>0</td>\n",
       "      <td>0</td>\n",
       "      <td>0</td>\n",
       "      <td>0</td>\n",
       "      <td>0</td>\n",
       "      <td>0</td>\n",
       "    </tr>\n",
       "    <tr>\n",
       "      <th>17535</th>\n",
       "      <td>190000</td>\n",
       "      <td>45</td>\n",
       "      <td>76433</td>\n",
       "      <td>78472</td>\n",
       "      <td>80548</td>\n",
       "      <td>81778</td>\n",
       "      <td>83082</td>\n",
       "      <td>84811</td>\n",
       "      <td>3300</td>\n",
       "      <td>3331</td>\n",
       "      <td>...</td>\n",
       "      <td>0</td>\n",
       "      <td>0</td>\n",
       "      <td>0</td>\n",
       "      <td>1</td>\n",
       "      <td>0</td>\n",
       "      <td>0</td>\n",
       "      <td>0</td>\n",
       "      <td>0</td>\n",
       "      <td>0</td>\n",
       "      <td>0</td>\n",
       "    </tr>\n",
       "  </tbody>\n",
       "</table>\n",
       "<p>5 rows × 81 columns</p>\n",
       "</div>"
      ],
      "text/plain": [
       "       LIMIT_BAL  AGE  BILL_AMT1  BILL_AMT2  BILL_AMT3  BILL_AMT4  BILL_AMT5  \\\n",
       "641       130000   28     100143      50456      50000          0          0   \n",
       "4678      170000   29     165027     168990     172307      35234      32869   \n",
       "16004     180000   29      25781      26000      26310      26662      26166   \n",
       "22974     210000   32        355        975        410          0          0   \n",
       "17535     190000   45      76433      78472      80548      81778      83082   \n",
       "\n",
       "       BILL_AMT6  PAY_AMT1  PAY_AMT2  ...  PAY_5_7  PAY_6_-2  PAY_6_-1  \\\n",
       "641            0      2500      1000  ...        0         1         0   \n",
       "4678       33862      7200      7500  ...        0         0         0   \n",
       "16004      26176      1800      1800  ...        0         0         0   \n",
       "22974          0       979       412  ...        0         1         0   \n",
       "17535      84811      3300      3331  ...        0         0         0   \n",
       "\n",
       "       PAY_6_0  PAY_6_2  PAY_6_3  PAY_6_4  PAY_6_5  PAY_6_6  PAY_6_7  \n",
       "641          0        0        0        0        0        0        0  \n",
       "4678         1        0        0        0        0        0        0  \n",
       "16004        1        0        0        0        0        0        0  \n",
       "22974        0        0        0        0        0        0        0  \n",
       "17535        1        0        0        0        0        0        0  \n",
       "\n",
       "[5 rows x 81 columns]"
      ]
     },
     "execution_count": 22,
     "metadata": {},
     "output_type": "execute_result"
    }
   ],
   "source": [
    "X_encoded= pd.get_dummies(X, columns=['SEX',\n",
    "                                      'EDUCATION',\n",
    "                                      'MARRIAGE',\n",
    "                                      'PAY_0',\n",
    "                                      'PAY_2',\n",
    "                                      'PAY_3',\n",
    "                                      'PAY_4',\n",
    "                                      'PAY_5',\n",
    "                                      'PAY_6'])\n",
    "X_encoded.head()"
   ]
  },
  {
   "cell_type": "markdown",
   "metadata": {},
   "source": [
    "### 5.3 Centering and Scaling\n",
    "The __Radial Basis Function (RBF)__ that we will be using with the SVM assumes that the data are centered and scaled. In other words, each column should have a mean=0 and a standard deviation=1. The Sklearn function `scale()` does this. It needs to be applies to both the training and the testing set. \n",
    "\n",
    "To avoid __Data Leakage__, the dataset is split first and then they are scaled separately. Data Leakage occurs when information about the training dataset corrupts or influences the testing set (that is to say spills or leakes over)."
   ]
  },
  {
   "cell_type": "code",
   "execution_count": 23,
   "metadata": {},
   "outputs": [],
   "source": [
    "X_train, X_test, y_train, y_test= train_test_split(X_encoded, y, random_state=42)\n",
    "X_train_scaled= scale(X_train)\n",
    "X_test_scaled= scale(X_test)"
   ]
  },
  {
   "cell_type": "markdown",
   "metadata": {},
   "source": [
    "## 6. Build a Preliminary Support Vector Machine"
   ]
  },
  {
   "cell_type": "code",
   "execution_count": 24,
   "metadata": {},
   "outputs": [
    {
     "data": {
      "text/plain": [
       "SVC(random_state=42)"
      ]
     },
     "execution_count": 24,
     "metadata": {},
     "output_type": "execute_result"
    }
   ],
   "source": [
    "clf_svm= SVC(random_state=42,kernel='rbf')\n",
    "clf_svm.fit(X_train_scaled, y_train)"
   ]
  },
  {
   "cell_type": "markdown",
   "metadata": {},
   "source": [
    "A preliminary Support Vector Machine for classification has been built. Check its performance on the testing data and draw a __Confusion Matrix__:"
   ]
  },
  {
   "cell_type": "code",
   "execution_count": 25,
   "metadata": {},
   "outputs": [
    {
     "data": {
      "image/png": "[encoded data removed]",
      "text/plain": [
       "<Figure size 432x288 with 2 Axes>"
      ]
     },
     "metadata": {
      "needs_background": "light"
     },
     "output_type": "display_data"
    }
   ],
   "source": [
    "plot_confusion_matrix(clf_svm,\n",
    "                     X_test_scaled,\n",
    "                     y_test,\n",
    "                     values_format='d',\n",
    "                     display_labels=['No Default', 'Yes Default'],\n",
    "                     cmap=plt.cm.Blues);"
   ]
  },
  {
   "cell_type": "markdown",
   "metadata": {},
   "source": [
    "In the confusion matrix, we  see that of the __201+56=257__ people that did not default, __201 (79%)__ were correctly classified. And of the __95+148=243__ people that did default, __148 (61%)__ were correctly classified. So the Support Vector Machine was not perfect. These outcomes may be improved by __Cross Validation__ to optimize the hyper-parameters.\n",
    "\n",
    "----\n",
    "\n",
    "## 7. Optimizing Hyper-Parameters\n",
    "\n",
    "Optimizimg a Support Vector Machine is all about the best value for __gamma__, and potentially the regularization parameter __C__; also known as hyper-parameters. Let's see if we can find better values with __Cross Validation__ in hope to improve the accuracy on the testing set.\n",
    "\n",
    "Since we have two parameters to optimize, we will use Sklearn's `GridSearchCV()`. Moreover, we need to specify potential values for __gamma__ and __C__ for `GridSearchCV()` to test all possible combinations of the parameters for us."
   ]
  },
  {
   "cell_type": "code",
   "execution_count": 26,
   "metadata": {},
   "outputs": [
    {
     "name": "stdout",
     "output_type": "stream",
     "text": [
      "{'C': 100, 'gamma': 0.001, 'kernel': 'rbf'}\n"
     ]
    }
   ],
   "source": [
    "param_grid=[\n",
    "    {'C': [0.5, 1, 10, 100], # C must be > 0\n",
    "    'gamma': ['scale', 1, 0.1, 0.01, 0.001, 0.0001],\n",
    "    'kernel': ['rbf']},\n",
    "]\n",
    "# NOTE: C=1 and gamma='scale' are included because they are the default values\n",
    "\n",
    "optimal_params= GridSearchCV(\n",
    "        SVC(),\n",
    "        param_grid,\n",
    "        cv=5,\n",
    "        scoring='accuracy',\n",
    "        ## Other scoring options: 'balanced-accuracy', 'f1', 'f1_weighted', 'roc_auc'\n",
    "        ## https://scikit-learn.org/stable/modules/model_evaluation.html#scoring-parameter\n",
    "        verbose=0 # NOTE: if you want to see GridSearchCV at work, set verbose=2\n",
    ")\n",
    "\n",
    "optimal_params.fit(X_train_scaled, y_train)\n",
    "print(optimal_params.best_params_)"
   ]
  },
  {
   "cell_type": "markdown",
   "metadata": {},
   "source": [
    "The ideal value for `C` is __100__, which means we will use the regularization, and the ideal value for `gamma` is __0.001__.\n",
    "\n",
    "----\n",
    "\n",
    "## 8. Build, Evaluate, Draw, and Interpet the Final SVM\n",
    "These optimal parameters can be used to build the fina __Support Vector Machine__."
   ]
  },
  {
   "cell_type": "code",
   "execution_count": 27,
   "metadata": {},
   "outputs": [
    {
     "data": {
      "text/plain": [
       "SVC(C=100, gamma=0.001, random_state=42)"
      ]
     },
     "execution_count": 27,
     "metadata": {},
     "output_type": "execute_result"
    }
   ],
   "source": [
    "clf_svm= SVC(random_state=42, C=100, gamma=0.001, kernel='rbf')\n",
    "clf_svm.fit(X_train_scaled, y_train)"
   ]
  },
  {
   "cell_type": "markdown",
   "metadata": {},
   "source": [
    "Draw another Confusion Matrix to see if the optimized SVM does better on the testing data."
   ]
  },
  {
   "cell_type": "code",
   "execution_count": 28,
   "metadata": {},
   "outputs": [
    {
     "data": {
      "image/png": "[encoded data removed]",
      "text/plain": [
       "<Figure size 432x288 with 2 Axes>"
      ]
     },
     "metadata": {
      "needs_background": "light"
     },
     "output_type": "display_data"
    }
   ],
   "source": [
    "plot_confusion_matrix(clf_svm,\n",
    "                     X_test_scaled,\n",
    "                     y_test,\n",
    "                     values_format='d',\n",
    "                     display_labels=['No Default', 'Yes Default'],\n",
    "                     cmap=plt.cm.Blues);"
   ]
  },
  {
   "cell_type": "markdown",
   "metadata": {},
   "source": [
    "And the results from the _optimized_ SVM are just a little bit better than before. __4__ more people were _correctly_ classified as not defaulting and only __1__ more person was _incorrectly_ classified as defaulting.\n",
    "\n",
    "In other words, the SVM was good straight out of the box without much optimization. This makes SVMs a great and quick method for classifications on small datasets.\n",
    "\n",
    "The last thing about SVMs is the so-called __Decision Boundary__. Let's visualize it and discuss how to interpret it."
   ]
  },
  {
   "cell_type": "code",
   "execution_count": 29,
   "metadata": {},
   "outputs": [
    {
     "data": {
      "text/plain": [
       "24"
      ]
     },
     "execution_count": 29,
     "metadata": {},
     "output_type": "execute_result"
    }
   ],
   "source": [
    "# obtain the number of columns in X\n",
    "len(df_downsampled.columns)"
   ]
  },
  {
   "cell_type": "markdown",
   "metadata": {},
   "source": [
    "There are __24__ features or columns in $X$. This is a problem because it would require a 24-dimensional graph, one dimension per feature used to make predictions, to plot the data in its raw form. In order to meaningfully reduce those 24 features to just 2 features for visualization, we will employ __Principal Component Analysis  (PCA)__. This will combine 24 raw features into __2 orthogonal meta-features__. \n",
    "\n",
    "However, before we shrink the feature set, let's first estimate how accurate the shrunken 2-feature graph will be. We can determine the accuracy of the graph by drawing a so-called __scree plot__. To produce an accurate 2-dimensional graph later, we expect the first 2 principal components to stand out over the rest on the scree plot, i.e. have a higher percentage of explained variance than the rest of the components."
   ]
  },
  {
   "cell_type": "code",
   "execution_count": 30,
   "metadata": {},
   "outputs": [
    {
     "data": {
      "image/png": "[encoded data removed]",
      "text/plain": [
       "<Figure size 432x288 with 1 Axes>"
      ]
     },
     "metadata": {
      "needs_background": "light"
     },
     "output_type": "display_data"
    }
   ],
   "source": [
    "pca= PCA() # by default, PCA centers the data but doesn't scale it\n",
    "X_train_pca= pca.fit_transform(X_train_scaled)\n",
    "\n",
    "per_var= np.round(pca.explained_variance_ratio_*100, decimals=1)\n",
    "labels= [str(x) for x in range(1, len(per_var)+1)]\n",
    "\n",
    "plt.bar(x=range(1, len(per_var)+1), height=per_var)\n",
    "plt.tick_params(axis='x', # changes apply to x-axis\n",
    "               which='both', # both major & minor ticks \n",
    "               bottom=False, # ticks along bottom edge are off\n",
    "               top=False,    # ticks along top edge are off\n",
    "               labelbottom=False) # labels along bottom edge are off\n",
    "plt.ylabel('Percentage of Explained Variance')\n",
    "plt.xlabel('Principal Components')\n",
    "plt.title('Scree Plot')\n",
    "plt.show();"
   ]
  },
  {
   "cell_type": "markdown",
   "metadata": {},
   "source": [
    "The scree plot shows that the first principal component, PC1, accounts for a relatively large amount of variation in the raw data. This mean that it will be a good candidate for the x-axis in the 2 dimensional graph. However, PC2 is not much different from PC3 or PC4, which doesn't bode well for dimension reduction. Since we don't have another choice, let's go with PC1 and PC2. (The final graph may be a look funky).\n",
    "\n",
    "Now draw the PCA graph, after training and optimizing the SVM for PC1 and PC2. "
   ]
  },
  {
   "cell_type": "code",
   "execution_count": 31,
   "metadata": {},
   "outputs": [
    {
     "name": "stdout",
     "output_type": "stream",
     "text": [
      "{'C': 1000, 'gamma': 0.001, 'kernel': 'rbf'}\n"
     ]
    }
   ],
   "source": [
    "train_pc1_coords= X_train_pca[:,0]\n",
    "train_pc2_coords= X_train_pca[:,1]\n",
    "## pc1 contains the x-axis coordinates of the data after PCA\n",
    "## pc2 contains the y-axis coordinates of the data after PCA\n",
    "\n",
    "# center and scale the PCs\n",
    "pca_train_scaled= scale(np.column_stack((train_pc1_coords, train_pc2_coords)))\n",
    "\n",
    "# GridSearchCV optimize the SVM fit PC1 and PC2\n",
    "param_grid= [\n",
    "    {'C':[1,10,100,1000],\n",
    "    'gamma':['scale',1,0.1,0.01,0.001,0.0001],\n",
    "    'kernel':['rbf']},]\n",
    "\n",
    "optimal_params= GridSearchCV(SVC(),\n",
    "                            param_grid,\n",
    "                            cv=5,\n",
    "                            scoring='accuracy',\n",
    "                            verbose=0)\n",
    "optimal_params.fit(pca_train_scaled,y_train)\n",
    "print(optimal_params.best_params_)"
   ]
  },
  {
   "cell_type": "markdown",
   "metadata": {},
   "source": [
    "We received different optimal parameters because we used a different dataset than before. Now, the optimal value for `C` is __1000__ and for `gamma` is __0.001__. "
   ]
  },
  {
   "cell_type": "code",
   "execution_count": 32,
   "metadata": {},
   "outputs": [
    {
     "data": {
      "image/png": "[encoded data removed]",
      "text/plain": [
       "<Figure size 720x720 with 1 Axes>"
      ]
     },
     "metadata": {
      "needs_background": "light"
     },
     "output_type": "display_data"
    }
   ],
   "source": [
    "clf_svm= SVC(random_state=42, C=1000, gamma=0.001, kernel='rbf')\n",
    "clf_svm.fit(pca_train_scaled,y_train)\n",
    "\n",
    "## transform the the test data with PCA\n",
    "X_test_pca= pca.transform(X_train_scaled) \n",
    "# X_test_pca= pca.transform(X_test_scaled)\n",
    "test_pc1_coords= X_test_pca[:,0]\n",
    "test_pc2_coords= X_test_pca[:,1]\n",
    "\n",
    "## now create the matrix of points that we can use to show as decision region\n",
    "## the matrix boundaroes need to be mapped so points don't go over the edge\n",
    "x_min= test_pc1_coords.min()-1\n",
    "x_max= test_pc1_coords.max()+1\n",
    "\n",
    "y_min= test_pc2_coords.min()-1\n",
    "y_max= test_pc2_coords.max()+1\n",
    "\n",
    "xx, yy= np.meshgrid(np.arange(start=x_min, stop=x_max, step=0.1),\n",
    "                    np.arange(start=y_min, stop=y_max, step=0.1))\n",
    "\n",
    "## now we will classify each point in that matrix with the SVM\n",
    "Z= clf_svm.predict(np.column_stack((xx.ravel(),yy.ravel())))\n",
    "## Z is a long array of 1s and 0s,\n",
    "## which reflect how each point in the mesh grid was classified\n",
    "## .reshape() will realign them with the matrix\n",
    "Z= Z.reshape(xx.shape)\n",
    "\n",
    "## the filled contour plot (ax.contourf)\n",
    "## will be filled according to the predicted classification in Z\n",
    "fig,ax= plt.subplots(figsize=(10,10))\n",
    "ax.contourf(xx,yy,Z, alpha=0.1)\n",
    "cmap= colors.ListedColormap(['#e41a1c','#4daf4a'])\n",
    "## now draw the actual data points\n",
    "scatter= ax.scatter(test_pc1_coords, test_pc2_coords, c=y_train,\n",
    "# scatter= ax.scatter(test_pc1_coords, test_pc2_coords, c=y_test,\n",
    "                   cmap=cmap,\n",
    "                   s=100,\n",
    "                   edgecolor='k',\n",
    "                   alpha=0.7)\n",
    "## create a legend\n",
    "legend= ax.legend(scatter.legend_elements()[0],\n",
    "                  scatter.legend_elements()[1],\n",
    "                 loc='upper right')\n",
    "legend.get_texts()[0].set_text('No Default')\n",
    "legend.get_texts()[1].set_text('Yes Default')\n",
    "# label axes, add title\n",
    "ax.set_xlabel('PC1')\n",
    "ax.set_ylabel('PC2')\n",
    "ax.set_title('Decision Surface using PCA transformed/projected Features')\n",
    "plt.show();"
   ]
  },
  {
   "cell_type": "markdown",
   "metadata": {},
   "source": [
    "The PCA graph shows the the decision boundary of the SVM on the training dataset. Principal Component Analysis has reduced the initial 24 features from the raw data down to 2 meta-features for visualization of the decision boundary/surface. Here, the decision surface has a circular form. Within the yellow circle are people that are more likely to have defaulted on their Credit Card Payments (green points) and outside the circle are more likely to have not defaulted (red points)."
   ]
  }
 ],
 "metadata": {
  "kernelspec": {
   "display_name": "Python",
   "language": "python",
   "name": "conda-env-python-py"
  },
  "language_info": {
   "codemirror_mode": {
    "name": "ipython",
    "version": 3
   },
   "file_extension": ".py",
   "mimetype": "text/x-python",
   "name": "python",
   "nbconvert_exporter": "python",
   "pygments_lexer": "ipython3",
   "version": "3.6.12"
  }
 },
 "nbformat": 4,
 "nbformat_minor": 4
}
